{
 "cells": [
  {
   "cell_type": "code",
   "execution_count": 1,
   "metadata": {
    "id": "I2gxFa-YXolQ",
    "pycharm": {
     "name": "#%%\n"
    }
   },
   "outputs": [],
   "source": [
    "%matplotlib inline"
   ]
  },
  {
   "cell_type": "code",
   "execution_count": 2,
   "outputs": [
    {
     "name": "stdout",
     "output_type": "stream",
     "text": [
      "Current working directory: /home/p22g5\n"
     ]
    }
   ],
   "source": [
    "import os\n",
    "from pathlib import Path\n",
    "print(\"Current working directory: {0}\".format(os.getcwd()))"
   ],
   "metadata": {
    "collapsed": false,
    "pycharm": {
     "name": "#%%\n"
    }
   }
  },
  {
   "cell_type": "code",
   "execution_count": 3,
   "outputs": [
    {
     "name": "stdout",
     "output_type": "stream",
     "text": [
      "Current working directory: /home/p22g5/AnomaliesRecycling\n"
     ]
    }
   ],
   "source": [
    "os.chdir('AnomaliesRecycling')\n",
    "print(\"Current working directory: {0}\".format(os.getcwd()))"
   ],
   "metadata": {
    "collapsed": false,
    "pycharm": {
     "name": "#%%\n"
    }
   }
  },
  {
   "cell_type": "markdown",
   "metadata": {
    "id": "15G-T9LRXolV",
    "pycharm": {
     "name": "#%% md\n"
    }
   },
   "source": [
    "\n",
    "Transfer Learning\n",
    "==============================================\n",
    "Based on this [tutorial](https://pytorch.org/tutorials/beginner/transfer_learning_tutorial.html#load-data)\n"
   ]
  },
  {
   "cell_type": "code",
   "execution_count": 121,
   "metadata": {
    "id": "gb2OkTcAXolX",
    "pycharm": {
     "name": "#%%\n"
    }
   },
   "outputs": [
    {
     "data": {
      "text/plain": "<matplotlib.pyplot._IonContext at 0x7f9fef90b490>"
     },
     "execution_count": 121,
     "metadata": {},
     "output_type": "execute_result"
    }
   ],
   "source": [
    "from __future__ import print_function, division\n",
    "\n",
    "import torch\n",
    "import torch.nn as nn\n",
    "import torch.optim as optim\n",
    "from torch.optim import lr_scheduler\n",
    "import torch.backends.cudnn as cudnn\n",
    "import numpy as np\n",
    "import torchvision\n",
    "from torchvision import datasets, models, transforms\n",
    "import matplotlib.pyplot as plt\n",
    "import time\n",
    "import os\n",
    "import copy\n",
    "\n",
    "os.environ[\"CUDA_DEVICE_ORDER\"] = \"PCI_BUS_ID\"\n",
    "os.environ[\"CUDA_VISIBLE_DEVICES\"] = \"4\"  # specify which GPU(s) to be used\n",
    "\n",
    "#torch.cuda.set_device(4)\n",
    "cudnn.benchmark = True\n",
    "plt.ion()   # interactive mode"
   ]
  },
  {
   "cell_type": "code",
   "execution_count": 122,
   "outputs": [
    {
     "data": {
      "text/plain": "True"
     },
     "execution_count": 122,
     "metadata": {},
     "output_type": "execute_result"
    }
   ],
   "source": [
    "torch.cuda.is_available()\n",
    "#torch.cuda.current_device()"
   ],
   "metadata": {
    "collapsed": false,
    "pycharm": {
     "name": "#%%\n"
    }
   }
  },
  {
   "cell_type": "code",
   "execution_count": 123,
   "outputs": [
    {
     "name": "stdout",
     "output_type": "stream",
     "text": [
      "/bin/bash: warning: setlocale: LC_ALL: cannot change locale (en_US.UTF-8)\r\n",
      "test  train\r\n"
     ]
    }
   ],
   "source": [
    "!ls ./data"
   ],
   "metadata": {
    "collapsed": false,
    "pycharm": {
     "name": "#%%\n"
    }
   }
  },
  {
   "cell_type": "markdown",
   "metadata": {
    "id": "d9Z3uIrrXolY",
    "pycharm": {
     "name": "#%% md\n"
    }
   },
   "source": [
    "Load Data\n",
    "---------"
   ]
  },
  {
   "cell_type": "code",
   "execution_count": 124,
   "metadata": {
    "colab": {
     "base_uri": "https://localhost:8080/"
    },
    "id": "CQj5pjVjXola",
    "outputId": "6f623b04-968d-4b27-bb79-fe963fa2989c",
    "pycharm": {
     "name": "#%%\n"
    }
   },
   "outputs": [],
   "source": [
    "\n",
    "# Data augmentation and normalization for training\n",
    "# Just normalization for validation\n",
    "data_transforms = {\n",
    "    'train': transforms.Compose([\n",
    "        transforms.Resize(256),\n",
    "\n",
    "        transforms.RandomHorizontalFlip(p=0.5),\n",
    "        transforms.RandomVerticalFlip(p=0.5),\n",
    "        transforms.RandomRotation(degrees=(0, 180)),\n",
    "        transforms.ColorJitter(brightness=0.5, contrast=0.5, saturation=0.5, hue=0.2),\n",
    "        transforms.RandomSolarize(threshold=0.5),\n",
    "        transforms.RandomAdjustSharpness(sharpness_factor=50, p=0.5),\n",
    "\n",
    "        transforms.ToTensor(),\n",
    "        transforms.Normalize([0.485, 0.456, 0.406], [0.229, 0.224, 0.225])\n",
    "    ]),\n",
    "    'test': transforms.Compose([\n",
    "        transforms.Resize(256),\n",
    "        transforms.ToTensor(),\n",
    "        transforms.Normalize([0.485, 0.456, 0.406], [0.229, 0.224, 0.225])\n",
    "    ]),\n",
    "}\n",
    "\n",
    "batch_size = 4\n",
    "data_dir = 'data'\n",
    "image_datasets = {x: datasets.ImageFolder(os.path.join(data_dir, x),\n",
    "                                          data_transforms[x])\n",
    "                  for x in ['train', 'test']}\n",
    "dataloaders = {x: torch.utils.data.DataLoader(image_datasets[x], batch_size=batch_size,\n",
    "                                             shuffle=True, num_workers=4)\n",
    "              for x in ['train', 'test']}\n",
    "dataset_sizes = {x: len(image_datasets[x]) for x in ['train', 'test']}\n",
    "class_names = image_datasets['train'].classes\n",
    "\n",
    "device = torch.device(\"cuda\" if torch.cuda.is_available() else \"cpu\")"
   ]
  },
  {
   "cell_type": "code",
   "source": [
    "import matplotlib.pyplot as plt\n",
    "\n",
    "fig = plt.figure()\n",
    "ax0 = fig.add_subplot(121, title=\"Loss\")\n",
    "ax1 = fig.add_subplot(122, title=\"Accuracy\")\n",
    "\n",
    "y_loss = {}  # loss history\n",
    "y_loss['train'] = []\n",
    "y_loss['test'] = []\n",
    "y_acc = {}\n",
    "y_acc['train'] = []\n",
    "y_acc['test'] = []\n",
    "x_epoch = []\n",
    "\n",
    "def draw_curve(current_epoch, model_name):\n",
    "    x_epoch.append(current_epoch)\n",
    "    ax0.plot(x_epoch, y_loss['train'], 'bo-', label='train')\n",
    "    ax0.plot(x_epoch, y_loss['test'], 'ro-', label='test')\n",
    "    ax1.plot(x_epoch, [x.cpu() for x in y_acc['train']], 'bo-', label='train')\n",
    "    ax1.plot(x_epoch, [x.cpu() for x in  y_acc['test']], 'ro-', label='test')\n",
    "    if current_epoch == 0:\n",
    "        ax0.legend()\n",
    "        ax1.legend()\n",
    "    folder = os.path.join('./lossGraphs', model_name)\n",
    "    Path(folder).mkdir(exist_ok=True)\n",
    "    fig.savefig(os.path.join(folder, 'train.jpg'))\n",
    "    return fig"
   ],
   "metadata": {
    "id": "da3lwbWrgrXS",
    "outputId": "0f3874ef-70fe-488c-db10-45c8fc7df268",
    "colab": {
     "base_uri": "https://localhost:8080/",
     "height": 281
    },
    "pycharm": {
     "name": "#%%\n"
    }
   },
   "execution_count": 125,
   "outputs": [
    {
     "data": {
      "text/plain": "<Figure size 432x288 with 2 Axes>",
      "image/png": "[encoded data removed]"
     },
     "metadata": {
      "needs_background": "light"
     },
     "output_type": "display_data"
    }
   ]
  },
  {
   "cell_type": "markdown",
   "metadata": {
    "id": "ANsYtbmRXolc",
    "pycharm": {
     "name": "#%% md\n"
    }
   },
   "source": [
    "Visualize a few images\n",
    "\n"
   ]
  },
  {
   "cell_type": "code",
   "execution_count": 126,
   "metadata": {
    "id": "RwHt2rP6Xold",
    "outputId": "77e0f699-71a2-480e-af34-78123ab0af64",
    "colab": {
     "base_uri": "https://localhost:8080/",
     "height": 182
    },
    "pycharm": {
     "name": "#%%\n"
    }
   },
   "outputs": [
    {
     "data": {
      "text/plain": "<Figure size 432x288 with 1 Axes>",
      "image/png": "[encoded data removed]"
     },
     "metadata": {
      "needs_background": "light"
     },
     "output_type": "display_data"
    }
   ],
   "source": [
    "def imshow(inp, title=None):\n",
    "    \"\"\"Imshow for Tensor.\"\"\"\n",
    "    inp = inp.numpy().transpose((1, 2, 0))\n",
    "    mean = np.array([0.485, 0.456, 0.406])\n",
    "    std = np.array([0.229, 0.224, 0.225])\n",
    "    inp = std * inp + mean\n",
    "    inp = np.clip(inp, 0, 1)\n",
    "    plt.imshow(inp)\n",
    "    if title is not None:\n",
    "        plt.title(title)\n",
    "    plt.pause(0.001)  # pause a bit so that plots are updated\n",
    "\n",
    "\n",
    "# Get a batch of training data\n",
    "inputs, classes = next(iter(dataloaders['train']))\n",
    "\n",
    "# Make a grid from batch\n",
    "out = torchvision.utils.make_grid(inputs)\n",
    "\n",
    "imshow(out, title=[class_names[x] for x in classes])"
   ]
  },
  {
   "cell_type": "markdown",
   "metadata": {
    "id": "DdUAgebCXold",
    "pycharm": {
     "name": "#%% md\n"
    }
   },
   "source": [
    "Training the model\n",
    "------------------"
   ]
  },
  {
   "cell_type": "code",
   "execution_count": 129,
   "metadata": {
    "id": "DnugyyyxXole",
    "pycharm": {
     "name": "#%%\n"
    }
   },
   "outputs": [],
   "source": [
    "from torch.autograd import Variable\n",
    "\n",
    "def train_model(model, criterion, optimizer, scheduler, writer, num_epochs=25, model_name=None):\n",
    "    if not model_name:\n",
    "        model_name = model.__class__.__name__\n",
    "    since = time.time()\n",
    "\n",
    "    best_model_wts = copy.deepcopy(model.state_dict())\n",
    "    best_acc = 0.0\n",
    "\n",
    "    for epoch in range(num_epochs):\n",
    "        print(f'Epoch {epoch}/{num_epochs - 1}')\n",
    "        print('-' * 10)\n",
    "\n",
    "        # Each epoch has a training and validation phase\n",
    "        for phase in ['train', 'test']:\n",
    "            if phase == 'train':\n",
    "                model.train()  # Set model to training mode\n",
    "            else:\n",
    "                model.eval()   # Set model to evaluate mode\n",
    "\n",
    "            running_loss = 0.0\n",
    "            running_corrects = 0\n",
    "\n",
    "            # Iterate over data.\n",
    "            for inputs, labels in dataloaders[phase]:\n",
    "                #inputs = inputs.to(device)\n",
    "                #labels = labels.to(device)\n",
    "                inputs = Variable(inputs.cuda())\n",
    "                labels = Variable(labels.cuda())\n",
    "            \n",
    "                # zero the parameter gradients\n",
    "                optimizer.zero_grad()\n",
    "\n",
    "                # forward\n",
    "                # track history if only in train\n",
    "                with torch.set_grad_enabled(phase == 'train'):\n",
    "                    outputs = model(inputs)\n",
    "                    _, preds = torch.max(outputs, 1)\n",
    "                    loss = criterion(outputs, labels)\n",
    "\n",
    "                    # backward + optimize only if in training phase\n",
    "                    if phase == 'train':\n",
    "                        loss.backward()\n",
    "                        optimizer.step()\n",
    "\n",
    "                # statistics\n",
    "                running_loss += loss.item() * inputs.size(0)\n",
    "                running_corrects += torch.sum(preds == labels.data)\n",
    "            if phase == 'train':\n",
    "                scheduler.step()\n",
    "\n",
    "            epoch_loss = running_loss / dataset_sizes[phase]\n",
    "            epoch_acc = running_corrects.double() / dataset_sizes[phase]\n",
    "\n",
    "            print(f'{phase} Loss: {epoch_loss:.4f} Acc: {epoch_acc:.4f}')\n",
    "\n",
    "            y_loss[phase].append(epoch_loss)\n",
    "            y_acc[phase].append(epoch_acc)\n",
    "\n",
    "            # deep copy the model\n",
    "            if phase == 'test':\n",
    "                draw_curve(epoch, model_name)\n",
    "                logger_losses = {\"test_loss\": y_loss['test'][epoch], \"train_loss\": y_loss['train'][epoch]}\n",
    "                logger_acc = {\"test_acc\": y_acc['test'][epoch], \"train_loss\": y_acc['train'][epoch]}\n",
    "                writer.add_scalars(\"losses\", logger_losses, global_step=epoch)\n",
    "                writer.add_scalars(\"accuracy\", logger_acc, global_step=epoch)\n",
    "\n",
    "            # deep copy the model\n",
    "            if phase == 'test' and epoch_acc > best_acc:\n",
    "                best_acc = epoch_acc\n",
    "                best_model_wts = copy.deepcopy(model.state_dict())\n",
    "\n",
    "        print()\n",
    "\n",
    "    time_elapsed = time.time() - since\n",
    "    print(f'Training complete in {time_elapsed // 60:.0f}m {time_elapsed % 60:.0f}s')\n",
    "    print(f'Best test acc: {best_acc:4f}')\n",
    "\n",
    "    # load best model weights\n",
    "    model.load_state_dict(best_model_wts)\n",
    "    path = \"./models/\" + model_name\n",
    "    torch.save(model.state_dict(), path)\n",
    "    writer.close()\n",
    "    return model"
   ]
  },
  {
   "cell_type": "markdown",
   "metadata": {
    "id": "A8Z6_Cs9Xolf",
    "pycharm": {
     "name": "#%% md\n"
    }
   },
   "source": [
    "Visualizing the model predictions\n",
    "^^^^^^^^^^^^^^^^^^^^^^^^^^^^^^^^^\n",
    "\n",
    "Generic function to display predictions for a few images\n",
    "\n",
    "\n"
   ]
  },
  {
   "cell_type": "code",
   "execution_count": 130,
   "metadata": {
    "id": "NyPjQWgAXolg",
    "pycharm": {
     "name": "#%%\n"
    }
   },
   "outputs": [],
   "source": [
    "def visualize_model(model, num_images=6):\n",
    "    was_training = model.training\n",
    "    model.eval()\n",
    "    images_so_far = 0\n",
    "    fig = plt.figure()\n",
    "\n",
    "    with torch.no_grad():\n",
    "        for i, (inputs, labels) in enumerate(dataloaders['test'], 0):\n",
    "            inputs = inputs.to(device)\n",
    "            labels = labels.to(device)\n",
    "\n",
    "            outputs = model(inputs)\n",
    "            _, preds = torch.max(outputs, 1)\n",
    "\n",
    "            for j in range(inputs.size()[0]):\n",
    "                images_so_far += 1\n",
    "                ax = plt.subplot(num_images//2, 2, images_so_far)\n",
    "                ax.axis('off')\n",
    "                ax.set_title(f'predicted for {labels[j]}: {class_names[preds[j]]}')\n",
    "                imshow(inputs.cpu().data[j])\n",
    "\n",
    "                if images_so_far == num_images:\n",
    "                    model.train(mode=was_training)\n",
    "                    return\n",
    "        model.train(mode=was_training)"
   ]
  },
  {
   "cell_type": "markdown",
   "metadata": {
    "id": "e2bGcY_VXolh",
    "pycharm": {
     "name": "#%% md\n"
    }
   },
   "source": [
    "Finetuning the convnet\n",
    "----------------------\n",
    "\n",
    "Load a pretrained model and reset final fully connected layer.\n",
    "\n",
    "\n"
   ]
  },
  {
   "cell_type": "code",
   "execution_count": 137,
   "metadata": {
    "id": "hAAwNz4zXoli",
    "pycharm": {
     "name": "#%%\n"
    }
   },
   "outputs": [],
   "source": [
    "#model_ft = models.mobilenet_v3_small(pretrained=True)\n",
    "#model_ft = models.efficientnet_b7(pretrained=True)\n",
    "model_ft = models.resnet18(pretrained=True)\n",
    "#print(model_ft)\n",
    "num_ftrs = model_ft.fc.in_features\n",
    "# Here the size of each output sample is set to 6, since we have 6 classes\n",
    "model_ft.fc = nn.Linear(num_ftrs, 6)\n",
    "\n",
    "model_ft = model_ft.to(device)\n",
    "\n",
    "criterion = nn.CrossEntropyLoss()\n",
    "\n",
    "# Observe that all parameters are being optimized\n",
    "#optimizer_ft = optim.Adam(model_ft.parameters(), lr=0.001)\n",
    "optimizer_ft = optim.SGD(model_ft.parameters(), lr=0.001, momentum=0.9)\n",
    "\n",
    "exp_lr_scheduler = lr_scheduler.StepLR(optimizer_ft, step_size=25, gamma=0.1)"
   ]
  },
  {
   "cell_type": "code",
   "execution_count": 138,
   "outputs": [],
   "source": [
    "from torch.utils.tensorboard import SummaryWriter\n",
    "model_name = \"ResNet18_Augm\"\n",
    "writer = SummaryWriter('runs/'+model_name)"
   ],
   "metadata": {
    "collapsed": false,
    "pycharm": {
     "name": "#%%\n"
    }
   }
  },
  {
   "cell_type": "markdown",
   "metadata": {
    "id": "8dQ4vzW4Xolj",
    "pycharm": {
     "name": "#%% md\n"
    }
   },
   "source": [
    "***Train and evaluate***"
   ]
  },
  {
   "cell_type": "code",
   "execution_count": 139,
   "metadata": {
    "id": "IGHJWVsDXolj",
    "outputId": "1f34ae64-b767-480f-a24a-38355e9add95",
    "colab": {
     "base_uri": "https://localhost:8080/"
    },
    "pycharm": {
     "name": "#%%\n"
    }
   },
   "outputs": [
    {
     "name": "stdout",
     "output_type": "stream",
     "text": [
      "Epoch 0/99\n",
      "----------\n",
      "train Loss: 0.7318 Acc: 0.7445\n",
      "test Loss: 0.5522 Acc: 0.8421\n",
      "\n",
      "Epoch 1/99\n",
      "----------\n",
      "train Loss: 0.4531 Acc: 0.8291\n",
      "test Loss: 0.3628 Acc: 0.8675\n",
      "\n",
      "Epoch 2/99\n",
      "----------\n",
      "train Loss: 0.4496 Acc: 0.8395\n",
      "test Loss: 0.4352 Acc: 0.8657\n",
      "\n",
      "Epoch 3/99\n",
      "----------\n",
      "train Loss: 0.4054 Acc: 0.8645\n",
      "test Loss: 0.3327 Acc: 0.8838\n",
      "\n",
      "Epoch 4/99\n",
      "----------\n",
      "train Loss: 0.3785 Acc: 0.8691\n",
      "test Loss: 0.3387 Acc: 0.8657\n",
      "\n",
      "Epoch 5/99\n",
      "----------\n",
      "train Loss: 0.3519 Acc: 0.8841\n",
      "test Loss: 0.3099 Acc: 0.8947\n",
      "\n",
      "Epoch 6/99\n",
      "----------\n",
      "train Loss: 0.3555 Acc: 0.8823\n",
      "test Loss: 0.4092 Acc: 0.8711\n",
      "\n",
      "Epoch 7/99\n",
      "----------\n",
      "train Loss: 0.3309 Acc: 0.8855\n",
      "test Loss: 0.2967 Acc: 0.8929\n",
      "\n",
      "Epoch 8/99\n",
      "----------\n",
      "train Loss: 0.3546 Acc: 0.8873\n",
      "test Loss: 0.8088 Acc: 0.5172\n",
      "\n",
      "Epoch 9/99\n",
      "----------\n",
      "train Loss: 0.3502 Acc: 0.8845\n",
      "test Loss: 0.3471 Acc: 0.8929\n",
      "\n",
      "Epoch 10/99\n",
      "----------\n",
      "train Loss: 0.3068 Acc: 0.8986\n",
      "test Loss: 0.2932 Acc: 0.8911\n",
      "\n",
      "Epoch 11/99\n",
      "----------\n",
      "train Loss: 0.2913 Acc: 0.9045\n",
      "test Loss: 0.3426 Acc: 0.8621\n",
      "\n",
      "Epoch 12/99\n",
      "----------\n",
      "train Loss: 0.3054 Acc: 0.9023\n",
      "test Loss: 0.2902 Acc: 0.9056\n",
      "\n",
      "Epoch 13/99\n",
      "----------\n",
      "train Loss: 0.2911 Acc: 0.9000\n",
      "test Loss: 0.3565 Acc: 0.9020\n",
      "\n",
      "Epoch 14/99\n",
      "----------\n",
      "train Loss: 0.2867 Acc: 0.9041\n",
      "test Loss: 0.4038 Acc: 0.8784\n",
      "\n",
      "Epoch 15/99\n",
      "----------\n",
      "train Loss: 0.2829 Acc: 0.9059\n",
      "test Loss: 0.2811 Acc: 0.9038\n",
      "\n",
      "Epoch 16/99\n",
      "----------\n",
      "train Loss: 0.2499 Acc: 0.9127\n",
      "test Loss: 0.2756 Acc: 0.9111\n",
      "\n",
      "Epoch 17/99\n",
      "----------\n",
      "train Loss: 0.2549 Acc: 0.9123\n",
      "test Loss: 0.2927 Acc: 0.9165\n",
      "\n",
      "Epoch 18/99\n",
      "----------\n",
      "train Loss: 0.2676 Acc: 0.9127\n",
      "test Loss: 0.2760 Acc: 0.9183\n",
      "\n",
      "Epoch 19/99\n",
      "----------\n",
      "train Loss: 0.2535 Acc: 0.9150\n",
      "test Loss: 0.2506 Acc: 0.9147\n",
      "\n",
      "Epoch 20/99\n",
      "----------\n",
      "train Loss: 0.2567 Acc: 0.9173\n",
      "test Loss: 0.3336 Acc: 0.8730\n",
      "\n",
      "Epoch 21/99\n",
      "----------\n",
      "train Loss: 0.2487 Acc: 0.9132\n",
      "test Loss: 0.2910 Acc: 0.9183\n",
      "\n",
      "Epoch 22/99\n",
      "----------\n",
      "train Loss: 0.2548 Acc: 0.9150\n",
      "test Loss: 0.3339 Acc: 0.8984\n",
      "\n",
      "Epoch 23/99\n",
      "----------\n",
      "train Loss: 0.2269 Acc: 0.9191\n",
      "test Loss: 0.3408 Acc: 0.8966\n",
      "\n",
      "Epoch 24/99\n",
      "----------\n",
      "train Loss: 0.2216 Acc: 0.9300\n",
      "test Loss: 0.2230 Acc: 0.9165\n",
      "\n",
      "Epoch 25/99\n",
      "----------\n",
      "train Loss: 0.2107 Acc: 0.9323\n",
      "test Loss: 0.2377 Acc: 0.9056\n",
      "\n",
      "Epoch 26/99\n",
      "----------\n",
      "train Loss: 0.1790 Acc: 0.9405\n",
      "test Loss: 0.2304 Acc: 0.9056\n",
      "\n",
      "Epoch 27/99\n",
      "----------\n",
      "train Loss: 0.1610 Acc: 0.9445\n",
      "test Loss: 0.2374 Acc: 0.8911\n",
      "\n",
      "Epoch 28/99\n",
      "----------\n",
      "train Loss: 0.1625 Acc: 0.9495\n",
      "test Loss: 0.2380 Acc: 0.9002\n",
      "\n",
      "Epoch 29/99\n",
      "----------\n",
      "train Loss: 0.1783 Acc: 0.9418\n",
      "test Loss: 0.2535 Acc: 0.8838\n",
      "\n",
      "Epoch 30/99\n",
      "----------\n",
      "train Loss: 0.1641 Acc: 0.9468\n",
      "test Loss: 0.2494 Acc: 0.8893\n",
      "\n",
      "Epoch 31/99\n",
      "----------\n",
      "train Loss: 0.1570 Acc: 0.9445\n",
      "test Loss: 0.2345 Acc: 0.8947\n",
      "\n",
      "Epoch 32/99\n",
      "----------\n",
      "train Loss: 0.1450 Acc: 0.9518\n",
      "test Loss: 0.2180 Acc: 0.9093\n",
      "\n",
      "Epoch 33/99\n",
      "----------\n",
      "train Loss: 0.1520 Acc: 0.9518\n",
      "test Loss: 0.2142 Acc: 0.9093\n",
      "\n",
      "Epoch 34/99\n",
      "----------\n",
      "train Loss: 0.1467 Acc: 0.9473\n",
      "test Loss: 0.2174 Acc: 0.9038\n",
      "\n",
      "Epoch 35/99\n",
      "----------\n",
      "train Loss: 0.1452 Acc: 0.9518\n",
      "test Loss: 0.2285 Acc: 0.9147\n",
      "\n",
      "Epoch 36/99\n",
      "----------\n",
      "train Loss: 0.1430 Acc: 0.9532\n",
      "test Loss: 0.2052 Acc: 0.9238\n",
      "\n",
      "Epoch 37/99\n",
      "----------\n",
      "train Loss: 0.1622 Acc: 0.9514\n",
      "test Loss: 0.1910 Acc: 0.9165\n",
      "\n",
      "Epoch 38/99\n",
      "----------\n",
      "train Loss: 0.1304 Acc: 0.9559\n",
      "test Loss: 0.2065 Acc: 0.9183\n",
      "\n",
      "Epoch 39/99\n",
      "----------\n",
      "train Loss: 0.1379 Acc: 0.9545\n",
      "test Loss: 0.2097 Acc: 0.9165\n",
      "\n",
      "Epoch 40/99\n",
      "----------\n",
      "train Loss: 0.1368 Acc: 0.9518\n",
      "test Loss: 0.1986 Acc: 0.9220\n",
      "\n",
      "Epoch 41/99\n",
      "----------\n",
      "train Loss: 0.1537 Acc: 0.9491\n",
      "test Loss: 0.1863 Acc: 0.9256\n",
      "\n",
      "Epoch 42/99\n",
      "----------\n",
      "train Loss: 0.1575 Acc: 0.9505\n",
      "test Loss: 0.2018 Acc: 0.9256\n",
      "\n",
      "Epoch 43/99\n",
      "----------\n",
      "train Loss: 0.1455 Acc: 0.9536\n",
      "test Loss: 0.1823 Acc: 0.9292\n",
      "\n",
      "Epoch 44/99\n",
      "----------\n",
      "train Loss: 0.1261 Acc: 0.9591\n",
      "test Loss: 0.1846 Acc: 0.9292\n",
      "\n",
      "Epoch 45/99\n",
      "----------\n",
      "train Loss: 0.1325 Acc: 0.9600\n",
      "test Loss: 0.1744 Acc: 0.9347\n",
      "\n",
      "Epoch 46/99\n",
      "----------\n",
      "train Loss: 0.1313 Acc: 0.9523\n",
      "test Loss: 0.1813 Acc: 0.9328\n",
      "\n",
      "Epoch 47/99\n",
      "----------\n",
      "train Loss: 0.1409 Acc: 0.9523\n",
      "test Loss: 0.1809 Acc: 0.9310\n",
      "\n",
      "Epoch 48/99\n",
      "----------\n",
      "train Loss: 0.1345 Acc: 0.9555\n",
      "test Loss: 0.1960 Acc: 0.9292\n",
      "\n",
      "Epoch 49/99\n",
      "----------\n",
      "train Loss: 0.1435 Acc: 0.9550\n",
      "test Loss: 0.1771 Acc: 0.9365\n",
      "\n",
      "Epoch 50/99\n",
      "----------\n",
      "train Loss: 0.1353 Acc: 0.9536\n",
      "test Loss: 0.1769 Acc: 0.9383\n",
      "\n",
      "Epoch 51/99\n",
      "----------\n",
      "train Loss: 0.1264 Acc: 0.9605\n",
      "test Loss: 0.1762 Acc: 0.9401\n",
      "\n",
      "Epoch 52/99\n",
      "----------\n",
      "train Loss: 0.1280 Acc: 0.9614\n",
      "test Loss: 0.1782 Acc: 0.9292\n",
      "\n",
      "Epoch 53/99\n",
      "----------\n",
      "train Loss: 0.1323 Acc: 0.9582\n",
      "test Loss: 0.1777 Acc: 0.9292\n",
      "\n",
      "Epoch 54/99\n",
      "----------\n",
      "train Loss: 0.1180 Acc: 0.9595\n",
      "test Loss: 0.1818 Acc: 0.9310\n",
      "\n",
      "Epoch 55/99\n",
      "----------\n",
      "train Loss: 0.1273 Acc: 0.9591\n",
      "test Loss: 0.1834 Acc: 0.9238\n",
      "\n",
      "Epoch 56/99\n",
      "----------\n",
      "train Loss: 0.1381 Acc: 0.9577\n",
      "test Loss: 0.1735 Acc: 0.9347\n",
      "\n",
      "Epoch 57/99\n",
      "----------\n",
      "train Loss: 0.1108 Acc: 0.9655\n",
      "test Loss: 0.1828 Acc: 0.9220\n",
      "\n",
      "Epoch 58/99\n",
      "----------\n",
      "train Loss: 0.1271 Acc: 0.9595\n",
      "test Loss: 0.1864 Acc: 0.9220\n",
      "\n",
      "Epoch 59/99\n",
      "----------\n",
      "train Loss: 0.1293 Acc: 0.9573\n",
      "test Loss: 0.1846 Acc: 0.9238\n",
      "\n",
      "Epoch 60/99\n",
      "----------\n",
      "train Loss: 0.1208 Acc: 0.9636\n",
      "test Loss: 0.1817 Acc: 0.9256\n",
      "\n",
      "Epoch 61/99\n",
      "----------\n",
      "train Loss: 0.1098 Acc: 0.9627\n",
      "test Loss: 0.1888 Acc: 0.9274\n",
      "\n",
      "Epoch 62/99\n",
      "----------\n",
      "train Loss: 0.1488 Acc: 0.9491\n",
      "test Loss: 0.1783 Acc: 0.9238\n",
      "\n",
      "Epoch 63/99\n",
      "----------\n",
      "train Loss: 0.1543 Acc: 0.9532\n",
      "test Loss: 0.1780 Acc: 0.9256\n",
      "\n",
      "Epoch 64/99\n",
      "----------\n",
      "train Loss: 0.1338 Acc: 0.9577\n",
      "test Loss: 0.1859 Acc: 0.9347\n",
      "\n",
      "Epoch 65/99\n",
      "----------\n",
      "train Loss: 0.1364 Acc: 0.9550\n",
      "test Loss: 0.1781 Acc: 0.9274\n",
      "\n",
      "Epoch 66/99\n",
      "----------\n",
      "train Loss: 0.1210 Acc: 0.9605\n",
      "test Loss: 0.1881 Acc: 0.9274\n",
      "\n",
      "Epoch 67/99\n",
      "----------\n",
      "train Loss: 0.1350 Acc: 0.9614\n",
      "test Loss: 0.1731 Acc: 0.9292\n",
      "\n",
      "Epoch 68/99\n",
      "----------\n",
      "train Loss: 0.1295 Acc: 0.9623\n",
      "test Loss: 0.1792 Acc: 0.9238\n",
      "\n",
      "Epoch 69/99\n",
      "----------\n",
      "train Loss: 0.1341 Acc: 0.9523\n",
      "test Loss: 0.1767 Acc: 0.9292\n",
      "\n",
      "Epoch 70/99\n",
      "----------\n",
      "train Loss: 0.1447 Acc: 0.9555\n",
      "test Loss: 0.1823 Acc: 0.9292\n",
      "\n",
      "Epoch 71/99\n",
      "----------\n",
      "train Loss: 0.1305 Acc: 0.9550\n",
      "test Loss: 0.1743 Acc: 0.9274\n",
      "\n",
      "Epoch 72/99\n",
      "----------\n",
      "train Loss: 0.1303 Acc: 0.9614\n",
      "test Loss: 0.1778 Acc: 0.9310\n",
      "\n",
      "Epoch 73/99\n",
      "----------\n",
      "train Loss: 0.1393 Acc: 0.9568\n",
      "test Loss: 0.1727 Acc: 0.9292\n",
      "\n",
      "Epoch 74/99\n",
      "----------\n",
      "train Loss: 0.1248 Acc: 0.9623\n",
      "test Loss: 0.1724 Acc: 0.9292\n",
      "\n",
      "Epoch 75/99\n",
      "----------\n",
      "train Loss: 0.1277 Acc: 0.9600\n",
      "test Loss: 0.1817 Acc: 0.9328\n",
      "\n",
      "Epoch 76/99\n",
      "----------\n",
      "train Loss: 0.1343 Acc: 0.9636\n",
      "test Loss: 0.1773 Acc: 0.9292\n",
      "\n",
      "Epoch 77/99\n",
      "----------\n",
      "train Loss: 0.1224 Acc: 0.9618\n",
      "test Loss: 0.1779 Acc: 0.9274\n",
      "\n",
      "Epoch 78/99\n",
      "----------\n",
      "train Loss: 0.1428 Acc: 0.9555\n",
      "test Loss: 0.1749 Acc: 0.9310\n",
      "\n",
      "Epoch 79/99\n",
      "----------\n",
      "train Loss: 0.1189 Acc: 0.9618\n",
      "test Loss: 0.1757 Acc: 0.9292\n",
      "\n",
      "Epoch 80/99\n",
      "----------\n",
      "train Loss: 0.1437 Acc: 0.9550\n",
      "test Loss: 0.1830 Acc: 0.9292\n",
      "\n",
      "Epoch 81/99\n",
      "----------\n",
      "train Loss: 0.1238 Acc: 0.9582\n",
      "test Loss: 0.1742 Acc: 0.9310\n",
      "\n",
      "Epoch 82/99\n",
      "----------\n",
      "train Loss: 0.1176 Acc: 0.9641\n",
      "test Loss: 0.1792 Acc: 0.9256\n",
      "\n",
      "Epoch 83/99\n",
      "----------\n",
      "train Loss: 0.1123 Acc: 0.9641\n",
      "test Loss: 0.1781 Acc: 0.9256\n",
      "\n",
      "Epoch 84/99\n",
      "----------\n",
      "train Loss: 0.1123 Acc: 0.9668\n",
      "test Loss: 0.1845 Acc: 0.9292\n",
      "\n",
      "Epoch 85/99\n",
      "----------\n",
      "train Loss: 0.1161 Acc: 0.9605\n",
      "test Loss: 0.1752 Acc: 0.9274\n",
      "\n",
      "Epoch 86/99\n",
      "----------\n",
      "train Loss: 0.1174 Acc: 0.9595\n",
      "test Loss: 0.1811 Acc: 0.9238\n",
      "\n",
      "Epoch 87/99\n",
      "----------\n",
      "train Loss: 0.1271 Acc: 0.9623\n",
      "test Loss: 0.1803 Acc: 0.9310\n",
      "\n",
      "Epoch 88/99\n",
      "----------\n",
      "train Loss: 0.1272 Acc: 0.9595\n",
      "test Loss: 0.1783 Acc: 0.9274\n",
      "\n",
      "Epoch 89/99\n",
      "----------\n",
      "train Loss: 0.1176 Acc: 0.9632\n",
      "test Loss: 0.1733 Acc: 0.9328\n",
      "\n",
      "Epoch 90/99\n",
      "----------\n",
      "train Loss: 0.1190 Acc: 0.9573\n",
      "test Loss: 0.1775 Acc: 0.9292\n",
      "\n",
      "Epoch 91/99\n",
      "----------\n",
      "train Loss: 0.1339 Acc: 0.9555\n",
      "test Loss: 0.1770 Acc: 0.9274\n",
      "\n",
      "Epoch 92/99\n",
      "----------\n",
      "train Loss: 0.1347 Acc: 0.9573\n",
      "test Loss: 0.1781 Acc: 0.9292\n",
      "\n",
      "Epoch 93/99\n",
      "----------\n",
      "train Loss: 0.1202 Acc: 0.9595\n",
      "test Loss: 0.1802 Acc: 0.9310\n",
      "\n",
      "Epoch 94/99\n",
      "----------\n",
      "train Loss: 0.1190 Acc: 0.9627\n",
      "test Loss: 0.1723 Acc: 0.9310\n",
      "\n",
      "Epoch 95/99\n",
      "----------\n",
      "train Loss: 0.1255 Acc: 0.9614\n",
      "test Loss: 0.1772 Acc: 0.9274\n",
      "\n",
      "Epoch 96/99\n",
      "----------\n",
      "train Loss: 0.1341 Acc: 0.9564\n",
      "test Loss: 0.1758 Acc: 0.9310\n",
      "\n",
      "Epoch 97/99\n",
      "----------\n",
      "train Loss: 0.1230 Acc: 0.9573\n",
      "test Loss: 0.1824 Acc: 0.9274\n",
      "\n",
      "Epoch 98/99\n",
      "----------\n",
      "train Loss: 0.1172 Acc: 0.9586\n",
      "test Loss: 0.1760 Acc: 0.9274\n",
      "\n",
      "Epoch 99/99\n",
      "----------\n",
      "train Loss: 0.1190 Acc: 0.9645\n",
      "test Loss: 0.1751 Acc: 0.9274\n",
      "\n",
      "Training complete in 31m 5s\n",
      "Best test acc: 0.940109\n"
     ]
    }
   ],
   "source": [
    "\n",
    "model_ft = train_model(model_ft, criterion, optimizer_ft, exp_lr_scheduler, writer, num_epochs=100, model_name=model_name)"
   ]
  },
  {
   "cell_type": "code",
   "execution_count": 38,
   "outputs": [
    {
     "name": "stdout",
     "output_type": "stream",
     "text": [
      "/bin/bash: warning: setlocale: LC_ALL: cannot change locale (en_US.UTF-8)\r\n",
      "/bin/bash: reload_ext: command not found\r\n",
      "/bin/bash: warning: setlocale: LC_ALL: cannot change locale (en_US.UTF-8)\r\n",
      "TensorFlow installation not found - running with reduced feature set.\r\n",
      "\r\n",
      "NOTE: Using experimental fast data loading logic. To disable, pass\r\n",
      "    \"--load_fast=false\" and report issues on GitHub. More details:\r\n",
      "    https://github.com/tensorflow/tensorboard/issues/4784\r\n",
      "\r\n",
      "Serving TensorBoard on localhost; to expose to the network, use a proxy or pass --bind_all\r\n",
      "TensorBoard 2.9.0 at http://localhost:6006/ (Press CTRL+C to quit)\r\n",
      "^C\r\n"
     ]
    }
   ],
   "source": [
    "!reload_ext tensorboard\n",
    "!tensorboard --logdir runs"
   ],
   "metadata": {
    "collapsed": false,
    "pycharm": {
     "name": "#%%\n"
    }
   }
  },
  {
   "cell_type": "markdown",
   "source": [],
   "metadata": {
    "collapsed": false,
    "pycharm": {
     "name": "#%% md\n"
    }
   }
  },
  {
   "cell_type": "code",
   "execution_count": 12,
   "metadata": {
    "id": "MxS150NNXolj",
    "pycharm": {
     "name": "#%%\n"
    }
   },
   "outputs": [
    {
     "data": {
      "text/plain": "<Figure size 432x288 with 1 Axes>",
      "image/png": "[encoded data removed]"
     },
     "metadata": {
      "needs_background": "light"
     },
     "output_type": "display_data"
    },
    {
     "data": {
      "text/plain": "<Figure size 432x288 with 1 Axes>",
      "image/png": "[encoded data removed]"
     },
     "metadata": {
      "needs_background": "light"
     },
     "output_type": "display_data"
    },
    {
     "data": {
      "text/plain": "<Figure size 432x288 with 1 Axes>",
      "image/png": "[encoded data removed]"
     },
     "metadata": {
      "needs_background": "light"
     },
     "output_type": "display_data"
    },
    {
     "data": {
      "text/plain": "<Figure size 432x288 with 1 Axes>",
      "image/png": "[encoded data removed]"
     },
     "metadata": {
      "needs_background": "light"
     },
     "output_type": "display_data"
    },
    {
     "data": {
      "text/plain": "<Figure size 432x288 with 1 Axes>",
      "image/png": "[encoded data removed]"
     },
     "metadata": {
      "needs_background": "light"
     },
     "output_type": "display_data"
    },
    {
     "data": {
      "text/plain": "<Figure size 432x288 with 1 Axes>",
      "image/png": "[encoded data removed]"
     },
     "metadata": {
      "needs_background": "light"
     },
     "output_type": "display_data"
    }
   ],
   "source": [
    "model_ft.load_state_dict(torch.load(\"./models/\"+model_name))\n",
    "visualize_model(model_ft)"
   ]
  },
  {
   "cell_type": "markdown",
   "source": [
    "***Filenames where validation failed***"
   ],
   "metadata": {
    "collapsed": false,
    "pycharm": {
     "name": "#%% md\n"
    }
   }
  },
  {
   "cell_type": "code",
   "execution_count": 35,
   "outputs": [
    {
     "name": "stdout",
     "output_type": "stream",
     "text": [
      "('data/test/0/Anlerndaten (622).jpg', 0)\n",
      "must be 0, but predicted 1\n",
      "('data/test/1/Anlerndaten (14).jpg', 1)\n",
      "must be 1, but predicted 2\n",
      "('data/test/1/Anlerndaten (804).jpg', 1)\n",
      "must be 1, but predicted 2\n",
      "('data/test/1/Anlerndaten (931).jpg', 1)\n",
      "must be 1, but predicted 2\n",
      "('data/test/2/Anlerndaten (255).jpg', 2)\n",
      "must be 2, but predicted 1\n",
      "('data/test/2/Anlerndaten (423).jpg', 2)\n",
      "must be 2, but predicted 1\n",
      "('data/test/2/Anlerndaten (596).jpg', 2)\n",
      "must be 2, but predicted 1\n",
      "('data/test/2/Anlerndaten (615).jpg', 2)\n",
      "must be 2, but predicted 1\n",
      "('data/test/2/Anlerndaten (669).jpg', 2)\n",
      "must be 2, but predicted 1\n",
      "('data/test/2/Anlerndaten (980).jpg', 2)\n",
      "must be 2, but predicted 1\n",
      "('data/test/2/trial (1013).jpg', 2)\n",
      "must be 2, but predicted 1\n",
      "('data/test/2/trial (1018).jpg', 2)\n",
      "must be 2, but predicted 1\n",
      "('data/test/2/trial (1326).jpg', 2)\n",
      "must be 2, but predicted 1\n",
      "('data/test/2/trial (1371).jpg', 2)\n",
      "must be 2, but predicted 1\n",
      "('data/test/2/trial (611).jpg', 2)\n",
      "must be 2, but predicted 1\n",
      "('data/test/3/Anlerndaten (248).jpg', 3)\n",
      "must be 3, but predicted 2\n",
      "('data/test/3/Anlerndaten (290).jpg', 3)\n",
      "must be 3, but predicted 2\n",
      "('data/test/3/Anlerndaten (502).jpg', 3)\n",
      "must be 3, but predicted 2\n",
      "('data/test/3/Anlerndaten (644).jpg', 3)\n",
      "must be 3, but predicted 2\n",
      "('data/test/3/trial (1409).jpg', 3)\n",
      "must be 3, but predicted 2\n",
      "('data/test/4/Anlerndaten (352).jpg', 4)\n",
      "must be 4, but predicted 3\n",
      "('data/test/4/Anlerndaten (428).jpg', 4)\n",
      "must be 4, but predicted 3\n",
      "('data/test/4/Anlerndaten (700).jpg', 4)\n",
      "must be 4, but predicted 2\n",
      "('data/test/5/Anlerndaten (779).jpg', 5)\n",
      "must be 5, but predicted 3\n"
     ]
    }
   ],
   "source": [
    "batch_size = 4\n",
    "model_ft.eval()\n",
    "with torch.no_grad():\n",
    "    for i, (input, label) in enumerate(image_datasets['test'], 0):\n",
    "        #print(input)\n",
    "        input = input.to(device)\n",
    "        #label = label.to(device)\n",
    "\n",
    "        output = model_ft(input.unsqueeze(0))\n",
    "        _, pred = torch.max(output, 1)\n",
    "\n",
    "\n",
    "        if label != pred:\n",
    "            print(image_datasets['test'].imgs[i])\n",
    "            #print(dataloaders['test'].dataset.samples[i*batch_size+j][0])\n",
    "            print(f'must be {label}, but predicted {class_names[pred]}')\n",
    "\n"
   ],
   "metadata": {
    "collapsed": false,
    "pycharm": {
     "name": "#%%\n"
    }
   }
  },
  {
   "cell_type": "code",
   "execution_count": 37,
   "outputs": [
    {
     "name": "stdout",
     "output_type": "stream",
     "text": [
      "data/test/0/trial (279).jpg\n",
      "must be 2, but predicted 1\n",
      "data/test/0/trial (77).jpg\n",
      "must be 2, but predicted 1\n",
      "data/test/0/trial (957).jpg\n",
      "must be 4, but predicted 3\n",
      "data/test/0/trial (961).jpg\n",
      "must be 2, but predicted 1\n",
      "data/test/1/Anlerndaten (295).jpg\n",
      "must be 1, but predicted 2\n",
      "data/test/1/Anlerndaten (599).jpg\n",
      "must be 2, but predicted 1\n",
      "data/test/1/Anlerndaten (610).jpg\n",
      "must be 2, but predicted 1\n",
      "data/test/1/Anlerndaten (824).jpg\n",
      "must be 5, but predicted 3\n",
      "data/test/1/trial (1182).jpg\n",
      "must be 3, but predicted 2\n",
      "data/test/1/trial (1240).jpg\n",
      "must be 2, but predicted 1\n",
      "data/test/1/trial (1276).jpg\n",
      "must be 3, but predicted 2\n",
      "data/test/1/trial (1316).jpg\n",
      "must be 2, but predicted 1\n",
      "data/test/1/trial (1363).jpg\n",
      "must be 0, but predicted 1\n",
      "data/test/1/trial (1643).jpg\n",
      "must be 2, but predicted 1\n",
      "data/test/1/trial (246).jpg\n",
      "must be 3, but predicted 2\n",
      "data/test/1/trial (287).jpg\n",
      "must be 3, but predicted 2\n",
      "data/test/1/trial (498).jpg\n",
      "must be 2, but predicted 1\n",
      "data/test/1/trial (658).jpg\n",
      "must be 2, but predicted 1\n",
      "data/test/1/trial (679).jpg\n",
      "must be 2, but predicted 1\n",
      "data/test/1/trial (758).jpg\n",
      "must be 1, but predicted 2\n",
      "data/test/1/trial (897).jpg\n",
      "must be 4, but predicted 3\n",
      "data/test/2/Anlerndaten (274).jpg\n",
      "must be 4, but predicted 2\n",
      "data/test/2/trial (856).jpg\n",
      "must be 3, but predicted 2\n",
      "data/test/3/Anlerndaten (290).jpg\n",
      "must be 1, but predicted 2\n"
     ]
    }
   ],
   "source": [
    "batch_size = 4\n",
    "with torch.no_grad():\n",
    "    for i, (inputs, labels) in enumerate(dataloaders['test'], 0):\n",
    "        #print(labels)\n",
    "        inputs = inputs.to(device)\n",
    "        labels = labels.to(device)\n",
    "\n",
    "        outputs = model_ft(inputs)\n",
    "        _, preds = torch.max(outputs, 1)\n",
    "\n",
    "        for j in range(inputs.size()[0]):\n",
    "            #print(j)\n",
    "            if labels[j] != preds[j]:\n",
    "                print(dataloaders['test'].dataset.samples[i*batch_size+j][0])\n",
    "                print(f'must be {labels[j]}, but predicted {class_names[preds[j]]}')\n",
    "\n"
   ],
   "metadata": {
    "collapsed": false,
    "pycharm": {
     "name": "#%%\n"
    }
   }
  },
  {
   "cell_type": "markdown",
   "metadata": {
    "id": "m-dI1pP3Xolk",
    "pycharm": {
     "name": "#%% md\n"
    }
   },
   "source": [
    "ConvNet as fixed feature extractor\n",
    "----------------------------------"
   ]
  },
  {
   "cell_type": "code",
   "execution_count": 79,
   "metadata": {
    "id": "3sGmvfv8Xolk",
    "pycharm": {
     "name": "#%%\n"
    }
   },
   "outputs": [],
   "source": [
    "model_conv = torchvision.models.resnet18(pretrained=True)\n",
    "for param in model_conv.parameters():\n",
    "    param.requires_grad = False\n",
    "\n",
    "# Parameters of newly constructed modules have requires_grad=True by default\n",
    "num_ftrs = model_conv.fc.in_features\n",
    "model_conv.fc = nn.Linear(num_ftrs, 6)\n",
    "\n",
    "model_conv = model_conv.to(device)\n",
    "\n",
    "criterion = nn.CrossEntropyLoss()\n",
    "\n",
    "# Observe that only parameters of final layer are being optimized as\n",
    "# opposed to before.\n",
    "optimizer_conv = optim.SGD(model_conv.fc.parameters(), lr=0.001, momentum=0.9)\n",
    "\n",
    "# Decay LR by a factor of 0.1 every 7 epochs\n",
    "exp_lr_scheduler = lr_scheduler.StepLR(optimizer_conv, step_size=7, gamma=0.1)"
   ]
  },
  {
   "cell_type": "markdown",
   "metadata": {
    "id": "_eJtv9s8Xolk",
    "pycharm": {
     "name": "#%% md\n"
    }
   },
   "source": [
    "Train and evaluate\n",
    "^^^^^^^^^^^^^^^^^^\n",
    "\n",
    "On CPU this will take about half the time compared to previous scenario.\n",
    "This is expected as gradients don't need to be computed for most of the\n",
    "network. However, forward does need to be computed.\n",
    "\n",
    "\n"
   ]
  },
  {
   "cell_type": "code",
   "execution_count": 81,
   "metadata": {
    "id": "GDPR_qHZXoll",
    "pycharm": {
     "name": "#%%\n"
    }
   },
   "outputs": [
    {
     "name": "stdout",
     "output_type": "stream",
     "text": [
      "Epoch 0/49\n",
      "----------\n",
      "train Loss: 0.8307 Acc: 0.6977\n",
      "test Loss: 0.5755 Acc: 0.7786\n",
      "\n",
      "Epoch 1/49\n",
      "----------\n",
      "train Loss: 0.7038 Acc: 0.7482\n",
      "test Loss: 0.8494 Acc: 0.6987\n",
      "\n",
      "Epoch 2/49\n",
      "----------\n",
      "train Loss: 0.6470 Acc: 0.7691\n",
      "test Loss: 0.4865 Acc: 0.8221\n",
      "\n",
      "Epoch 3/49\n",
      "----------\n",
      "train Loss: 0.5775 Acc: 0.7886\n",
      "test Loss: 0.4508 Acc: 0.8530\n",
      "\n",
      "Epoch 4/49\n",
      "----------\n",
      "train Loss: 0.5704 Acc: 0.7818\n",
      "test Loss: 0.6314 Acc: 0.7387\n",
      "\n",
      "Epoch 5/49\n",
      "----------\n",
      "train Loss: 0.5340 Acc: 0.7982\n",
      "test Loss: 0.4207 Acc: 0.8603\n",
      "\n",
      "Epoch 6/49\n",
      "----------\n",
      "train Loss: 0.5195 Acc: 0.8041\n",
      "test Loss: 0.4809 Acc: 0.8566\n",
      "\n",
      "Epoch 7/49\n",
      "----------\n",
      "train Loss: 0.4549 Acc: 0.8300\n",
      "test Loss: 0.4015 Acc: 0.8584\n",
      "\n",
      "Epoch 8/49\n",
      "----------\n",
      "train Loss: 0.4685 Acc: 0.8314\n",
      "test Loss: 0.3961 Acc: 0.8566\n",
      "\n",
      "Epoch 9/49\n",
      "----------\n",
      "train Loss: 0.4585 Acc: 0.8350\n",
      "test Loss: 0.4070 Acc: 0.8512\n",
      "\n",
      "Epoch 10/49\n",
      "----------\n",
      "train Loss: 0.4460 Acc: 0.8364\n",
      "test Loss: 0.4058 Acc: 0.8566\n",
      "\n",
      "Epoch 11/49\n",
      "----------\n",
      "train Loss: 0.4324 Acc: 0.8482\n",
      "test Loss: 0.3950 Acc: 0.8748\n",
      "\n",
      "Epoch 12/49\n",
      "----------\n",
      "train Loss: 0.4647 Acc: 0.8318\n",
      "test Loss: 0.4105 Acc: 0.8639\n",
      "\n",
      "Epoch 13/49\n",
      "----------\n",
      "train Loss: 0.4361 Acc: 0.8464\n",
      "test Loss: 0.3943 Acc: 0.8766\n",
      "\n",
      "Epoch 14/49\n",
      "----------\n",
      "train Loss: 0.4403 Acc: 0.8445\n",
      "test Loss: 0.3936 Acc: 0.8675\n",
      "\n",
      "Epoch 15/49\n",
      "----------\n",
      "train Loss: 0.4529 Acc: 0.8345\n",
      "test Loss: 0.4047 Acc: 0.8530\n",
      "\n",
      "Epoch 16/49\n",
      "----------\n",
      "train Loss: 0.4390 Acc: 0.8386\n",
      "test Loss: 0.3947 Acc: 0.8748\n",
      "\n",
      "Epoch 17/49\n",
      "----------\n",
      "train Loss: 0.4364 Acc: 0.8445\n",
      "test Loss: 0.3980 Acc: 0.8639\n",
      "\n",
      "Epoch 18/49\n",
      "----------\n",
      "train Loss: 0.4602 Acc: 0.8314\n",
      "test Loss: 0.3976 Acc: 0.8639\n",
      "\n",
      "Epoch 19/49\n",
      "----------\n",
      "train Loss: 0.4649 Acc: 0.8364\n",
      "test Loss: 0.4008 Acc: 0.8621\n",
      "\n",
      "Epoch 20/49\n",
      "----------\n",
      "train Loss: 0.4289 Acc: 0.8459\n",
      "test Loss: 0.4149 Acc: 0.8584\n",
      "\n",
      "Epoch 21/49\n",
      "----------\n",
      "train Loss: 0.4258 Acc: 0.8455\n",
      "test Loss: 0.3992 Acc: 0.8657\n",
      "\n",
      "Epoch 22/49\n",
      "----------\n",
      "train Loss: 0.4448 Acc: 0.8400\n",
      "test Loss: 0.3989 Acc: 0.8711\n",
      "\n",
      "Epoch 23/49\n",
      "----------\n",
      "train Loss: 0.4623 Acc: 0.8300\n",
      "test Loss: 0.3979 Acc: 0.8748\n",
      "\n",
      "Epoch 24/49\n",
      "----------\n",
      "train Loss: 0.4298 Acc: 0.8450\n",
      "test Loss: 0.3965 Acc: 0.8657\n",
      "\n",
      "Epoch 25/49\n",
      "----------\n",
      "train Loss: 0.4364 Acc: 0.8459\n",
      "test Loss: 0.3917 Acc: 0.8584\n",
      "\n",
      "Epoch 26/49\n",
      "----------\n",
      "train Loss: 0.4333 Acc: 0.8409\n",
      "test Loss: 0.3992 Acc: 0.8603\n",
      "\n",
      "Epoch 27/49\n",
      "----------\n",
      "train Loss: 0.4360 Acc: 0.8418\n",
      "test Loss: 0.4005 Acc: 0.8711\n",
      "\n",
      "Epoch 28/49\n",
      "----------\n",
      "train Loss: 0.4386 Acc: 0.8436\n",
      "test Loss: 0.4026 Acc: 0.8639\n",
      "\n",
      "Epoch 29/49\n",
      "----------\n",
      "train Loss: 0.4119 Acc: 0.8500\n",
      "test Loss: 0.4081 Acc: 0.8603\n",
      "\n",
      "Epoch 30/49\n",
      "----------\n",
      "train Loss: 0.4353 Acc: 0.8409\n",
      "test Loss: 0.3955 Acc: 0.8711\n",
      "\n",
      "Epoch 31/49\n",
      "----------\n",
      "train Loss: 0.4338 Acc: 0.8468\n",
      "test Loss: 0.4044 Acc: 0.8621\n",
      "\n",
      "Epoch 32/49\n",
      "----------\n",
      "train Loss: 0.4543 Acc: 0.8309\n",
      "test Loss: 0.4038 Acc: 0.8566\n",
      "\n",
      "Epoch 33/49\n",
      "----------\n",
      "train Loss: 0.4283 Acc: 0.8418\n",
      "test Loss: 0.3950 Acc: 0.8621\n",
      "\n",
      "Epoch 34/49\n",
      "----------\n",
      "train Loss: 0.4393 Acc: 0.8373\n",
      "test Loss: 0.4040 Acc: 0.8657\n",
      "\n",
      "Epoch 35/49\n",
      "----------\n",
      "train Loss: 0.4407 Acc: 0.8464\n",
      "test Loss: 0.3999 Acc: 0.8675\n",
      "\n",
      "Epoch 36/49\n",
      "----------\n",
      "train Loss: 0.4462 Acc: 0.8368\n",
      "test Loss: 0.4089 Acc: 0.8639\n",
      "\n",
      "Epoch 37/49\n",
      "----------\n",
      "train Loss: 0.4408 Acc: 0.8341\n",
      "test Loss: 0.3845 Acc: 0.8711\n",
      "\n",
      "Epoch 38/49\n",
      "----------\n",
      "train Loss: 0.4216 Acc: 0.8445\n",
      "test Loss: 0.3917 Acc: 0.8675\n",
      "\n",
      "Epoch 39/49\n",
      "----------\n",
      "train Loss: 0.4334 Acc: 0.8386\n",
      "test Loss: 0.3966 Acc: 0.8784\n",
      "\n",
      "Epoch 40/49\n",
      "----------\n",
      "train Loss: 0.4412 Acc: 0.8327\n",
      "test Loss: 0.3967 Acc: 0.8730\n",
      "\n",
      "Epoch 41/49\n",
      "----------\n",
      "train Loss: 0.4413 Acc: 0.8377\n",
      "test Loss: 0.3979 Acc: 0.8530\n",
      "\n",
      "Epoch 42/49\n",
      "----------\n",
      "train Loss: 0.4506 Acc: 0.8323\n",
      "test Loss: 0.3950 Acc: 0.8730\n",
      "\n",
      "Epoch 43/49\n",
      "----------\n",
      "train Loss: 0.4299 Acc: 0.8545\n",
      "test Loss: 0.3974 Acc: 0.8639\n",
      "\n",
      "Epoch 44/49\n",
      "----------\n",
      "train Loss: 0.4358 Acc: 0.8368\n",
      "test Loss: 0.3932 Acc: 0.8657\n",
      "\n",
      "Epoch 45/49\n",
      "----------\n",
      "train Loss: 0.4259 Acc: 0.8495\n",
      "test Loss: 0.4108 Acc: 0.8621\n",
      "\n",
      "Epoch 46/49\n",
      "----------\n",
      "train Loss: 0.4344 Acc: 0.8473\n",
      "test Loss: 0.3945 Acc: 0.8603\n",
      "\n",
      "Epoch 47/49\n",
      "----------\n",
      "train Loss: 0.4282 Acc: 0.8509\n",
      "test Loss: 0.4093 Acc: 0.8621\n",
      "\n",
      "Epoch 48/49\n",
      "----------\n",
      "train Loss: 0.4575 Acc: 0.8268\n",
      "test Loss: 0.3911 Acc: 0.8693\n",
      "\n",
      "Epoch 49/49\n",
      "----------\n",
      "train Loss: 0.4099 Acc: 0.8568\n",
      "test Loss: 0.4060 Acc: 0.8657\n",
      "\n",
      "Training complete in 11m 40s\n",
      "Best test acc: 0.878403\n"
     ]
    }
   ],
   "source": [
    "from torch.utils.tensorboard import SummaryWriter\n",
    "model_name = \"ResNet18_freezed\"\n",
    "writer = SummaryWriter('runs/'+model_name)\n",
    "model_conv = train_model(model_conv, criterion, optimizer_conv,\n",
    "                         exp_lr_scheduler, writer=writer, num_epochs=50, model_name=model_name)"
   ]
  },
  {
   "cell_type": "code",
   "execution_count": 82,
   "metadata": {
    "id": "wcU1sICJXolm",
    "pycharm": {
     "name": "#%%\n"
    }
   },
   "outputs": [
    {
     "data": {
      "text/plain": "<Figure size 432x288 with 1 Axes>",
      "image/png": "[encoded data removed]"
     },
     "metadata": {
      "needs_background": "light"
     },
     "output_type": "display_data"
    },
    {
     "data": {
      "text/plain": "<Figure size 432x288 with 1 Axes>",
      "image/png": "[encoded data removed]"
     },
     "metadata": {
      "needs_background": "light"
     },
     "output_type": "display_data"
    },
    {
     "data": {
      "text/plain": "<Figure size 432x288 with 1 Axes>",
      "image/png": "[encoded data removed]"
     },
     "metadata": {
      "needs_background": "light"
     },
     "output_type": "display_data"
    },
    {
     "data": {
      "text/plain": "<Figure size 432x288 with 1 Axes>",
      "image/png": "[encoded data removed]"
     },
     "metadata": {
      "needs_background": "light"
     },
     "output_type": "display_data"
    },
    {
     "data": {
      "text/plain": "<Figure size 432x288 with 1 Axes>",
      "image/png": "[encoded data removed]"
     },
     "metadata": {
      "needs_background": "light"
     },
     "output_type": "display_data"
    },
    {
     "data": {
      "text/plain": "<Figure size 432x288 with 1 Axes>",
      "image/png": "[encoded data removed]"
     },
     "metadata": {
      "needs_background": "light"
     },
     "output_type": "display_data"
    }
   ],
   "source": [
    "visualize_model(model_conv)\n",
    "\n",
    "plt.ioff()\n",
    "plt.show()"
   ]
  },
  {
   "cell_type": "markdown",
   "metadata": {
    "id": "V3ZuiV7CXolm",
    "pycharm": {
     "name": "#%% md\n"
    }
   },
   "source": []
  }
 ],
 "metadata": {
  "kernelspec": {
   "display_name": "Python 3",
   "language": "python",
   "name": "python3"
  },
  "language_info": {
   "codemirror_mode": {
    "name": "ipython",
    "version": 3
   },
   "file_extension": ".py",
   "mimetype": "text/x-python",
   "name": "python",
   "nbconvert_exporter": "python",
   "pygments_lexer": "ipython3",
   "version": "3.7.13"
  },
  "colab": {
   "name": "Copy of transfer_learning_tutorial.ipynb",
   "provenance": [],
   "collapsed_sections": []
  },
  "accelerator": "GPU"
 },
 "nbformat": 4,
 "nbformat_minor": 0
}