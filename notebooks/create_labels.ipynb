{
 "cells": [
  {
   "cell_type": "code",
   "execution_count": 2,
   "id": "394231fd-86a6-4bed-bb5e-67916e1e74d6",
   "metadata": {
    "pycharm": {
     "name": "#%%\n"
    }
   },
   "outputs": [],
   "source": [
    "import pandas as pd\n",
    "from glob import glob"
   ]
  },
  {
   "cell_type": "code",
   "execution_count": 2,
   "id": "5cb59ee9-1fd8-487e-ad08-00e5e1775c78",
   "metadata": {
    "pycharm": {
     "name": "#%%\n"
    }
   },
   "outputs": [],
   "source": [
    "for folder in glob(\"../data/labels/*/\"):\n",
    "    with open(folder + \"synsets.txt\") as f:\n",
    "        labels = list(map(lambda x: int(x[:-1]) if x[:-1].isdigit() else x[:-1], f.readlines()))\n",
    "    columns = [\"folder\", \"name\", \"count\"] + list(filter(lambda x: isinstance(x, str), labels))\n",
    "    df = pd.DataFrame(columns=columns)\n",
    "    folder_name = folder[folder.find(\"/\") + 1: -1]\n",
    "    with open(folder + \"default.txt\") as f:\n",
    "        for line in f:\n",
    "            line = line.replace('\"', \"\")\n",
    "            line = line.replace(\"\\n\", \"\")\n",
    "            image = {\"folder\": folder_name, \"name\": line[: line.find(\".jpg\") + 4]}\n",
    "            tags = list(map(lambda x: int(x), line[line.find(\".jpg\") + 5:].split(\" \")))\n",
    "            for tag in tags:\n",
    "                if isinstance(labels[tag], int):\n",
    "                    image[\"count\"] = labels[tag]\n",
    "                else:\n",
    "                    image[labels[tag]] = True\n",
    "            df = pd.concat([df, pd.DataFrame.from_records([image])], ignore_index=True)\n",
    "    df = df.fillna(False)\n",
    "    df.to_csv(folder + \"/\" + \"labels.csv\", index=False)"
   ]
  },
  {
   "cell_type": "code",
   "execution_count": null,
   "id": "fbc845ae",
   "metadata": {
    "pycharm": {
     "name": "#%%\n"
    }
   },
   "outputs": [],
   "source": [
    "# create train & test folders with images and labels\n",
    "import os\n",
    "from PIL import Image\n",
    "\n",
    "set_name = \"train\"\n",
    "data = 'ESOS'\n",
    "path_folder = f\"/cvhci/temp/p22g5/data/\"\n",
    "df = pd.read_csv(f\"../data/{data}/{set_name}.csv\")\n",
    "for _, row in df.iterrows():\n",
    "    img_PIL = Image.open(path_folder + row['name'])\n",
    "    path_image = f\"{path_folder}{data}/{set_name}/{row['count']}/\"\n",
    "    if not os.path.exists(path_image):\n",
    "        os.makedirs(path_image)\n",
    "    path_image += row['name'][row['name'].rfind('/') + 1:]\n",
    "    if img_PIL.mode in (\"RGBA\", \"P\"):\n",
    "        img_PIL = img_PIL.convert('RGB')\n",
    "    img_PIL.save(path_image)"
   ]
  }
 ],
 "metadata": {
  "kernelspec": {
   "display_name": "Python 3 (ipykernel)",
   "language": "python",
   "name": "python3"
  },
  "language_info": {
   "codemirror_mode": {
    "name": "ipython",
    "version": 3
   },
   "file_extension": ".py",
   "mimetype": "text/x-python",
   "name": "python",
   "nbconvert_exporter": "python",
   "pygments_lexer": "ipython3",
   "version": "3.10.4"
  }
 },
 "nbformat": 4,
 "nbformat_minor": 5
}
