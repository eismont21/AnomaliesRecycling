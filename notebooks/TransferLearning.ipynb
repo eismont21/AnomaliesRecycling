{
 "cells": [
  {
   "cell_type": "code",
   "execution_count": 5,
   "metadata": {
    "id": "I2gxFa-YXolQ",
    "pycharm": {
     "name": "#%%\n"
    }
   },
   "outputs": [],
   "source": [
    "import pandas as pd\n",
    "%matplotlib inline"
   ]
  },
  {
   "cell_type": "code",
   "execution_count": 6,
   "metadata": {
    "pycharm": {
     "name": "#%%\n"
    }
   },
   "outputs": [
    {
     "name": "stdout",
     "output_type": "stream",
     "text": [
      "Current working directory: /home/p22g5/AnomaliesRecycling/data_augmentation\n"
     ]
    }
   ],
   "source": [
    "import os\n",
    "print(\"Current working directory: {0}\".format(os.getcwd()))"
   ]
  },
  {
   "cell_type": "code",
   "execution_count": 7,
   "metadata": {
    "pycharm": {
     "name": "#%%\n"
    }
   },
   "outputs": [
    {
     "name": "stdout",
     "output_type": "stream",
     "text": [
      "Current working directory: /home/p22g5/AnomaliesRecycling\n"
     ]
    }
   ],
   "source": [
    "#os.chdir('AnomaliesRecycling')\n",
    "os.chdir('..')\n",
    "print(\"Current working directory: {0}\".format(os.getcwd()))"
   ]
  },
  {
   "cell_type": "code",
   "execution_count": 32,
   "metadata": {
    "pycharm": {
     "name": "#%%\n"
    }
   },
   "outputs": [],
   "source": [
    "import pandas as pd\n",
    "synthesized_csv = pd.read_csv(\"./data/labels/synthesized/synthesized.csv\")\n",
    "train_csv = pd.read_csv(\"./data/train.csv\")"
   ]
  },
  {
   "cell_type": "code",
   "execution_count": 27,
   "metadata": {
    "pycharm": {
     "name": "#%%\n"
    }
   },
   "outputs": [
    {
     "data": {
      "text/html": [
       "<div>\n",
       "<style scoped>\n",
       "    .dataframe tbody tr th:only-of-type {\n",
       "        vertical-align: middle;\n",
       "    }\n",
       "\n",
       "    .dataframe tbody tr th {\n",
       "        vertical-align: top;\n",
       "    }\n",
       "\n",
       "    .dataframe thead th {\n",
       "        text-align: right;\n",
       "    }\n",
       "</style>\n",
       "<table border=\"1\" class=\"dataframe\">\n",
       "  <thead>\n",
       "    <tr style=\"text-align: right;\">\n",
       "      <th></th>\n",
       "      <th>name</th>\n",
       "      <th>count</th>\n",
       "      <th>synthesized</th>\n",
       "    </tr>\n",
       "  </thead>\n",
       "  <tbody>\n",
       "    <tr>\n",
       "      <th>0</th>\n",
       "      <td>synthesized/label_0_img_0.jpg</td>\n",
       "      <td>0</td>\n",
       "      <td>True</td>\n",
       "    </tr>\n",
       "    <tr>\n",
       "      <th>1</th>\n",
       "      <td>synthesized/label_0_img_1.jpg</td>\n",
       "      <td>0</td>\n",
       "      <td>True</td>\n",
       "    </tr>\n",
       "    <tr>\n",
       "      <th>2</th>\n",
       "      <td>synthesized/label_0_img_2.jpg</td>\n",
       "      <td>0</td>\n",
       "      <td>True</td>\n",
       "    </tr>\n",
       "    <tr>\n",
       "      <th>3</th>\n",
       "      <td>synthesized/label_0_img_3.jpg</td>\n",
       "      <td>0</td>\n",
       "      <td>True</td>\n",
       "    </tr>\n",
       "    <tr>\n",
       "      <th>4</th>\n",
       "      <td>synthesized/label_0_img_4.jpg</td>\n",
       "      <td>0</td>\n",
       "      <td>True</td>\n",
       "    </tr>\n",
       "  </tbody>\n",
       "</table>\n",
       "</div>"
      ],
      "text/plain": [
       "                            name  count  synthesized\n",
       "0  synthesized/label_0_img_0.jpg      0         True\n",
       "1  synthesized/label_0_img_1.jpg      0         True\n",
       "2  synthesized/label_0_img_2.jpg      0         True\n",
       "3  synthesized/label_0_img_3.jpg      0         True\n",
       "4  synthesized/label_0_img_4.jpg      0         True"
      ]
     },
     "execution_count": 27,
     "metadata": {},
     "output_type": "execute_result"
    }
   ],
   "source": [
    "synthesized_csv.head()"
   ]
  },
  {
   "cell_type": "code",
   "execution_count": 33,
   "metadata": {
    "pycharm": {
     "name": "#%%\n"
    }
   },
   "outputs": [
    {
     "data": {
      "text/html": [
       "<div>\n",
       "<style scoped>\n",
       "    .dataframe tbody tr th:only-of-type {\n",
       "        vertical-align: middle;\n",
       "    }\n",
       "\n",
       "    .dataframe tbody tr th {\n",
       "        vertical-align: top;\n",
       "    }\n",
       "\n",
       "    .dataframe thead th {\n",
       "        text-align: right;\n",
       "    }\n",
       "</style>\n",
       "<table border=\"1\" class=\"dataframe\">\n",
       "  <thead>\n",
       "    <tr style=\"text-align: right;\">\n",
       "      <th></th>\n",
       "      <th>name</th>\n",
       "      <th>count</th>\n",
       "      <th>edge</th>\n",
       "      <th>different colors</th>\n",
       "      <th>one color</th>\n",
       "      <th>transparent</th>\n",
       "      <th>inside</th>\n",
       "      <th>overlapping</th>\n",
       "      <th>dark color</th>\n",
       "      <th>open lid</th>\n",
       "      <th>synthesized</th>\n",
       "    </tr>\n",
       "  </thead>\n",
       "  <tbody>\n",
       "    <tr>\n",
       "      <th>0</th>\n",
       "      <td>cluttered/Anlerndaten (568).jpg</td>\n",
       "      <td>2</td>\n",
       "      <td>0.0</td>\n",
       "      <td>0.0</td>\n",
       "      <td>1.0</td>\n",
       "      <td>0.0</td>\n",
       "      <td>0.0</td>\n",
       "      <td>0.0</td>\n",
       "      <td>0.0</td>\n",
       "      <td>0.0</td>\n",
       "      <td>NaN</td>\n",
       "    </tr>\n",
       "    <tr>\n",
       "      <th>1</th>\n",
       "      <td>presorted/trial (1544).jpg</td>\n",
       "      <td>2</td>\n",
       "      <td>0.0</td>\n",
       "      <td>1.0</td>\n",
       "      <td>0.0</td>\n",
       "      <td>0.0</td>\n",
       "      <td>0.0</td>\n",
       "      <td>1.0</td>\n",
       "      <td>0.0</td>\n",
       "      <td>0.0</td>\n",
       "      <td>NaN</td>\n",
       "    </tr>\n",
       "    <tr>\n",
       "      <th>2</th>\n",
       "      <td>presorted/trial (1673).jpg</td>\n",
       "      <td>1</td>\n",
       "      <td>0.0</td>\n",
       "      <td>0.0</td>\n",
       "      <td>0.0</td>\n",
       "      <td>0.0</td>\n",
       "      <td>0.0</td>\n",
       "      <td>0.0</td>\n",
       "      <td>0.0</td>\n",
       "      <td>0.0</td>\n",
       "      <td>NaN</td>\n",
       "    </tr>\n",
       "    <tr>\n",
       "      <th>3</th>\n",
       "      <td>cluttered/Anlerndaten (454).jpg</td>\n",
       "      <td>1</td>\n",
       "      <td>0.0</td>\n",
       "      <td>0.0</td>\n",
       "      <td>0.0</td>\n",
       "      <td>1.0</td>\n",
       "      <td>0.0</td>\n",
       "      <td>0.0</td>\n",
       "      <td>0.0</td>\n",
       "      <td>0.0</td>\n",
       "      <td>NaN</td>\n",
       "    </tr>\n",
       "    <tr>\n",
       "      <th>4</th>\n",
       "      <td>cluttered/Anlerndaten (184).jpg</td>\n",
       "      <td>1</td>\n",
       "      <td>0.0</td>\n",
       "      <td>0.0</td>\n",
       "      <td>0.0</td>\n",
       "      <td>0.0</td>\n",
       "      <td>0.0</td>\n",
       "      <td>0.0</td>\n",
       "      <td>0.0</td>\n",
       "      <td>0.0</td>\n",
       "      <td>NaN</td>\n",
       "    </tr>\n",
       "  </tbody>\n",
       "</table>\n",
       "</div>"
      ],
      "text/plain": [
       "                              name  count  edge  different colors  one color  \\\n",
       "0  cluttered/Anlerndaten (568).jpg      2   0.0               0.0        1.0   \n",
       "1       presorted/trial (1544).jpg      2   0.0               1.0        0.0   \n",
       "2       presorted/trial (1673).jpg      1   0.0               0.0        0.0   \n",
       "3  cluttered/Anlerndaten (454).jpg      1   0.0               0.0        0.0   \n",
       "4  cluttered/Anlerndaten (184).jpg      1   0.0               0.0        0.0   \n",
       "\n",
       "   transparent  inside  overlapping  dark color  open lid synthesized  \n",
       "0          0.0     0.0          0.0         0.0       0.0         NaN  \n",
       "1          0.0     0.0          1.0         0.0       0.0         NaN  \n",
       "2          0.0     0.0          0.0         0.0       0.0         NaN  \n",
       "3          1.0     0.0          0.0         0.0       0.0         NaN  \n",
       "4          0.0     0.0          0.0         0.0       0.0         NaN  "
      ]
     },
     "execution_count": 33,
     "metadata": {},
     "output_type": "execute_result"
    }
   ],
   "source": [
    "train_csv = pd.concat([train_csv, synthesized_csv])\n",
    "train_csv.head()"
   ]
  },
  {
   "cell_type": "code",
   "execution_count": null,
   "metadata": {
    "pycharm": {
     "name": "#%%\n"
    }
   },
   "outputs": [],
   "source": []
  },
  {
   "cell_type": "code",
   "execution_count": 42,
   "metadata": {
    "pycharm": {
     "name": "#%%\n"
    }
   },
   "outputs": [],
   "source": [
    "train_csv = train_csv.fillna(0)\n",
    "train_csv.to_csv('./data/train.csv', index=False)"
   ]
  },
  {
   "cell_type": "markdown",
   "metadata": {
    "id": "15G-T9LRXolV",
    "pycharm": {
     "name": "#%% md\n"
    }
   },
   "source": [
    "\n",
    "Transfer Learning\n",
    "==============================================\n",
    "Based on this [tutorial](https://pytorch.org/tutorials/beginner/transfer_learning_tutorial.html#load-data)\n"
   ]
  },
  {
   "cell_type": "code",
   "execution_count": 43,
   "metadata": {
    "id": "gb2OkTcAXolX",
    "pycharm": {
     "name": "#%%\n"
    }
   },
   "outputs": [
    {
     "data": {
      "text/plain": [
       "<matplotlib.pyplot._IonContext at 0x7f5734af8850>"
      ]
     },
     "execution_count": 43,
     "metadata": {},
     "output_type": "execute_result"
    }
   ],
   "source": [
    "from __future__ import print_function, division\n",
    "\n",
    "import torch\n",
    "import torch.nn as nn\n",
    "import torch.optim as optim\n",
    "from torch.optim import lr_scheduler\n",
    "\n",
    "import torchvision\n",
    "from torchvision import models, transforms\n",
    "import matplotlib.pyplot as plt\n",
    "\n",
    "from src.transfer_learning import TransferLearningTrainer\n",
    "from src.cam import CAM\n",
    "\n",
    "\n",
    "plt.ion()   # interactive mode"
   ]
  },
  {
   "cell_type": "code",
   "execution_count": 44,
   "metadata": {
    "pycharm": {
     "name": "#%%\n"
    }
   },
   "outputs": [
    {
     "data": {
      "text/plain": [
       "1"
      ]
     },
     "execution_count": 44,
     "metadata": {},
     "output_type": "execute_result"
    }
   ],
   "source": [
    "torch.cuda.is_available()\n",
    "torch.cuda.current_device()\n",
    "torch.cuda.device_count()"
   ]
  },
  {
   "cell_type": "markdown",
   "metadata": {
    "id": "d9Z3uIrrXolY",
    "pycharm": {
     "name": "#%% md\n"
    }
   },
   "source": [
    "Load Data and Data Augmentation\n",
    "---------"
   ]
  },
  {
   "cell_type": "code",
   "execution_count": 45,
   "metadata": {
    "pycharm": {
     "name": "#%%\n"
    }
   },
   "outputs": [],
   "source": [
    "# Data augmentation and normalization for training\n",
    "# Just normalization for validation\n",
    "data_transforms = {\n",
    "    'train': transforms.Compose([\n",
    "        transforms.ToPILImage(),\n",
    "        transforms.Resize((256, 256)),\n",
    "        transforms.RandomHorizontalFlip(p=0.5),\n",
    "        #transforms.RandomVerticalFlip(p=0.5),\n",
    "        #transforms.RandomRotation(degrees=(0, 180)),\n",
    "        #transforms.ColorJitter(brightness=0.5, contrast=0.5, saturation=0.5, hue=0.2),\n",
    "        #transforms.RandomSolarize(threshold=0.5),\n",
    "        #transforms.RandomAdjustSharpness(sharpness_factor=50, p=0.5),\n",
    "\n",
    "        transforms.ToTensor(),\n",
    "        transforms.Normalize([0.485, 0.456, 0.406], [0.229, 0.224, 0.225])\n",
    "    ]),\n",
    "    'test': transforms.Compose([\n",
    "        transforms.ToPILImage(),\n",
    "        transforms.Resize((256, 256)),\n",
    "        transforms.ToTensor(),\n",
    "        transforms.Normalize([0.485, 0.456, 0.406], [0.229, 0.224, 0.225])\n",
    "    ]),\n",
    "}"
   ]
  },
  {
   "cell_type": "code",
   "execution_count": 46,
   "metadata": {
    "pycharm": {
     "name": "#%%\n"
    }
   },
   "outputs": [],
   "source": [
    "transferLearningTrainer = TransferLearningTrainer(data_transforms=data_transforms)"
   ]
  },
  {
   "cell_type": "markdown",
   "metadata": {
    "pycharm": {
     "name": "#%% md\n"
    }
   },
   "source": [
    "Visualize a few images\n",
    "\n"
   ]
  },
  {
   "cell_type": "code",
   "execution_count": 47,
   "metadata": {
    "pycharm": {
     "name": "#%%\n"
    }
   },
   "outputs": [
    {
     "data": {
      "image/png": "[encoded data removed]",
      "text/plain": [
       "<Figure size 432x288 with 1 Axes>"
      ]
     },
     "metadata": {
      "needs_background": "light"
     },
     "output_type": "display_data"
    }
   ],
   "source": [
    "# Get a batch of training data\n",
    "sample = next(iter(transferLearningTrainer.dataloaders['train']))\n",
    "inputs, classes = sample['image'], sample['label']\n",
    "# Make a grid from batch\n",
    "out = torchvision.utils.make_grid(inputs)\n",
    "transferLearningTrainer.imshow(out, [transferLearningTrainer.class_names[x] for x in classes])"
   ]
  },
  {
   "cell_type": "markdown",
   "metadata": {
    "pycharm": {
     "name": "#%% md\n"
    }
   },
   "source": [
    "Training the model\n",
    "------------------"
   ]
  },
  {
   "cell_type": "markdown",
   "metadata": {
    "pycharm": {
     "name": "#%% md\n"
    }
   },
   "source": [
    "Finetuning the convnet\n",
    "----------------------\n",
    "\n",
    "Load a pretrained model and reset final fully connected layer.\n",
    "\n",
    "\n"
   ]
  },
  {
   "cell_type": "code",
   "execution_count": 48,
   "metadata": {
    "pycharm": {
     "name": "#%%\n"
    }
   },
   "outputs": [],
   "source": [
    "model_name = \"ResNet18_synthesized\"\n",
    "model_ft = models.resnet18(pretrained=True)\n",
    "num_ftrs = model_ft.fc.in_features\n",
    "# Here the size of each output sample is set to 6, since we have 6 classes\n",
    "model_ft.fc = nn.Linear(num_ftrs, len(transferLearningTrainer.class_names))\n",
    "criterion = nn.CrossEntropyLoss()\n",
    "# Observe that all parameters are being optimized\n",
    "optimizer_ft = optim.SGD(model_ft.parameters(), lr=0.001, momentum=0.9)\n",
    "exp_lr_scheduler = lr_scheduler.StepLR(optimizer_ft, step_size=10, gamma=0.1)"
   ]
  },
  {
   "cell_type": "code",
   "execution_count": 52,
   "outputs": [],
   "source": [
    "model_ft = torch.load(transferLearningTrainer.MODELS_DIR + 'GoogleNet_SOS_model.pth')\n",
    "num_ftrs = model_ft.fc.in_features\n",
    "# Here the size of each output sample is set to 6, since we have 6 classes\n",
    "model_ft.fc = nn.Linear(num_ftrs, len(transferLearningTrainer.class_names))\n",
    "criterion = nn.CrossEntropyLoss()\n",
    "# Observe that all parameters are being optimized\n",
    "optimizer_ft = optim.SGD(model_ft.parameters(), lr=0.001, momentum=0.9)\n",
    "exp_lr_scheduler = lr_scheduler.StepLR(optimizer_ft, step_size=10, gamma=0.1)"
   ],
   "metadata": {
    "collapsed": false,
    "pycharm": {
     "name": "#%%\n"
    }
   }
  },
  {
   "cell_type": "code",
   "execution_count": 54,
   "outputs": [
    {
     "name": "stdout",
     "output_type": "stream",
     "text": [
      "Epoch 0/49\n",
      "----------\n",
      "train Loss: 0.3034 Acc: 0.8919\n",
      "test Loss: 0.3921 Acc: 0.8589\n",
      "\n",
      "Epoch 1/49\n",
      "----------\n",
      "train Loss: 0.2263 Acc: 0.9220\n",
      "test Loss: 0.3147 Acc: 0.8949\n",
      "\n",
      "Epoch 2/49\n",
      "----------\n",
      "train Loss: 0.1747 Acc: 0.9427\n",
      "test Loss: 0.3093 Acc: 0.9024\n",
      "\n",
      "Epoch 3/49\n",
      "----------\n",
      "train Loss: 0.1369 Acc: 0.9575\n",
      "test Loss: 0.3146 Acc: 0.9039\n",
      "\n",
      "Epoch 4/49\n",
      "----------\n",
      "train Loss: 0.1112 Acc: 0.9662\n",
      "test Loss: 0.3276 Acc: 0.9024\n",
      "\n",
      "Epoch 5/49\n",
      "----------\n",
      "train Loss: 0.0875 Acc: 0.9758\n",
      "test Loss: 0.2476 Acc: 0.9279\n",
      "\n",
      "Epoch 6/49\n",
      "----------\n",
      "train Loss: 0.0730 Acc: 0.9810\n",
      "test Loss: 0.2503 Acc: 0.9264\n",
      "\n",
      "Epoch 7/49\n",
      "----------\n",
      "train Loss: 0.0607 Acc: 0.9852\n",
      "test Loss: 0.2545 Acc: 0.9174\n",
      "\n",
      "Epoch 8/49\n",
      "----------\n",
      "train Loss: 0.0544 Acc: 0.9865\n",
      "test Loss: 0.2669 Acc: 0.9159\n",
      "\n",
      "Epoch 9/49\n",
      "----------\n",
      "train Loss: 0.0441 Acc: 0.9885\n",
      "test Loss: 0.2579 Acc: 0.9159\n",
      "\n",
      "Epoch 10/49\n",
      "----------\n",
      "train Loss: 0.0414 Acc: 0.9898\n",
      "test Loss: 0.2377 Acc: 0.9234\n",
      "\n",
      "Epoch 11/49\n",
      "----------\n",
      "train Loss: 0.0381 Acc: 0.9904\n",
      "test Loss: 0.2389 Acc: 0.9279\n",
      "\n",
      "Epoch 12/49\n",
      "----------\n",
      "train Loss: 0.0375 Acc: 0.9885\n",
      "test Loss: 0.2361 Acc: 0.9279\n",
      "\n",
      "Epoch 13/49\n",
      "----------\n",
      "train Loss: 0.0354 Acc: 0.9900\n",
      "test Loss: 0.2391 Acc: 0.9279\n",
      "\n",
      "Epoch 14/49\n",
      "----------\n",
      "train Loss: 0.0334 Acc: 0.9917\n",
      "test Loss: 0.2353 Acc: 0.9279\n",
      "\n",
      "Epoch 15/49\n",
      "----------\n",
      "train Loss: 0.0342 Acc: 0.9914\n",
      "test Loss: 0.2376 Acc: 0.9279\n",
      "\n",
      "Epoch 16/49\n",
      "----------\n",
      "train Loss: 0.0339 Acc: 0.9910\n",
      "test Loss: 0.2359 Acc: 0.9294\n",
      "\n",
      "Epoch 17/49\n",
      "----------\n",
      "train Loss: 0.0322 Acc: 0.9908\n",
      "test Loss: 0.2387 Acc: 0.9294\n",
      "\n",
      "Epoch 18/49\n",
      "----------\n",
      "train Loss: 0.0311 Acc: 0.9917\n",
      "test Loss: 0.2428 Acc: 0.9294\n",
      "\n",
      "Epoch 19/49\n",
      "----------\n",
      "train Loss: 0.0303 Acc: 0.9932\n",
      "test Loss: 0.2390 Acc: 0.9279\n",
      "\n",
      "Epoch 20/49\n",
      "----------\n",
      "train Loss: 0.0300 Acc: 0.9936\n",
      "test Loss: 0.2415 Acc: 0.9279\n",
      "\n",
      "Epoch 21/49\n",
      "----------\n",
      "train Loss: 0.0300 Acc: 0.9934\n",
      "test Loss: 0.2453 Acc: 0.9279\n",
      "\n",
      "Epoch 22/49\n",
      "----------\n",
      "train Loss: 0.0297 Acc: 0.9930\n",
      "test Loss: 0.2474 Acc: 0.9279\n",
      "\n",
      "Epoch 23/49\n",
      "----------\n",
      "train Loss: 0.0296 Acc: 0.9938\n",
      "test Loss: 0.2494 Acc: 0.9294\n",
      "\n",
      "Epoch 24/49\n",
      "----------\n",
      "train Loss: 0.0287 Acc: 0.9942\n",
      "test Loss: 0.2476 Acc: 0.9294\n",
      "\n",
      "Epoch 25/49\n",
      "----------\n",
      "train Loss: 0.0292 Acc: 0.9940\n",
      "test Loss: 0.2474 Acc: 0.9279\n",
      "\n",
      "Epoch 26/49\n",
      "----------\n",
      "train Loss: 0.0289 Acc: 0.9942\n",
      "test Loss: 0.2499 Acc: 0.9279\n",
      "\n",
      "Epoch 27/49\n",
      "----------\n",
      "train Loss: 0.0291 Acc: 0.9934\n",
      "test Loss: 0.2489 Acc: 0.9294\n",
      "\n",
      "Epoch 28/49\n",
      "----------\n",
      "train Loss: 0.0288 Acc: 0.9932\n",
      "test Loss: 0.2488 Acc: 0.9294\n",
      "\n",
      "Epoch 29/49\n",
      "----------\n",
      "train Loss: 0.0287 Acc: 0.9936\n",
      "test Loss: 0.2521 Acc: 0.9264\n",
      "\n",
      "Epoch 30/49\n",
      "----------\n",
      "train Loss: 0.0287 Acc: 0.9936\n",
      "test Loss: 0.2506 Acc: 0.9249\n",
      "\n",
      "Epoch 31/49\n",
      "----------\n",
      "train Loss: 0.0280 Acc: 0.9940\n",
      "test Loss: 0.2497 Acc: 0.9279\n",
      "\n",
      "Epoch 32/49\n",
      "----------\n",
      "train Loss: 0.0296 Acc: 0.9932\n",
      "test Loss: 0.2511 Acc: 0.9264\n",
      "\n",
      "Epoch 33/49\n",
      "----------\n",
      "train Loss: 0.0289 Acc: 0.9936\n",
      "test Loss: 0.2518 Acc: 0.9264\n",
      "\n",
      "Epoch 34/49\n",
      "----------\n",
      "train Loss: 0.0285 Acc: 0.9944\n",
      "test Loss: 0.2511 Acc: 0.9279\n",
      "\n",
      "Epoch 35/49\n",
      "----------\n",
      "train Loss: 0.0288 Acc: 0.9930\n",
      "test Loss: 0.2515 Acc: 0.9264\n",
      "\n",
      "Epoch 36/49\n",
      "----------\n",
      "train Loss: 0.0283 Acc: 0.9940\n",
      "test Loss: 0.2529 Acc: 0.9264\n",
      "\n",
      "Epoch 37/49\n",
      "----------\n",
      "train Loss: 0.0274 Acc: 0.9942\n",
      "test Loss: 0.2536 Acc: 0.9279\n",
      "\n",
      "Epoch 38/49\n",
      "----------\n",
      "train Loss: 0.0278 Acc: 0.9944\n",
      "test Loss: 0.2506 Acc: 0.9279\n",
      "\n",
      "Epoch 39/49\n",
      "----------\n",
      "train Loss: 0.0284 Acc: 0.9936\n",
      "test Loss: 0.2527 Acc: 0.9279\n",
      "\n",
      "Epoch 40/49\n",
      "----------\n",
      "train Loss: 0.0280 Acc: 0.9942\n",
      "test Loss: 0.2515 Acc: 0.9279\n",
      "\n",
      "Epoch 41/49\n",
      "----------\n",
      "train Loss: 0.0279 Acc: 0.9942\n",
      "test Loss: 0.2558 Acc: 0.9264\n",
      "\n",
      "Epoch 42/49\n",
      "----------\n",
      "train Loss: 0.0282 Acc: 0.9942\n",
      "test Loss: 0.2508 Acc: 0.9279\n",
      "\n",
      "Epoch 43/49\n",
      "----------\n",
      "train Loss: 0.0284 Acc: 0.9942\n",
      "test Loss: 0.2499 Acc: 0.9279\n",
      "\n",
      "Epoch 44/49\n",
      "----------\n",
      "train Loss: 0.0282 Acc: 0.9936\n",
      "test Loss: 0.2513 Acc: 0.9294\n",
      "\n",
      "Epoch 45/49\n",
      "----------\n",
      "train Loss: 0.0284 Acc: 0.9938\n",
      "test Loss: 0.2513 Acc: 0.9279\n",
      "\n",
      "Epoch 46/49\n",
      "----------\n",
      "train Loss: 0.0287 Acc: 0.9938\n",
      "test Loss: 0.2511 Acc: 0.9264\n",
      "\n",
      "Epoch 47/49\n",
      "----------\n",
      "train Loss: 0.0287 Acc: 0.9938\n",
      "test Loss: 0.2510 Acc: 0.9279\n",
      "\n",
      "Epoch 48/49\n",
      "----------\n",
      "train Loss: 0.0277 Acc: 0.9940\n",
      "test Loss: 0.2511 Acc: 0.9279\n",
      "\n",
      "Epoch 49/49\n",
      "----------\n",
      "train Loss: 0.0284 Acc: 0.9945\n",
      "test Loss: 0.2511 Acc: 0.9264\n",
      "\n",
      "Training complete in 23m 57s\n",
      "Best test acc: 0.929429\n"
     ]
    }
   ],
   "source": [
    "model_ft = transferLearningTrainer.train_model(model=model_ft,\n",
    "                                               criterion=criterion,\n",
    "                                               optimizer=optimizer_ft,\n",
    "                                               scheduler=exp_lr_scheduler,\n",
    "                                               num_epochs=50,\n",
    "                                               model_name=\"GoogleNet_SOS_model_synthesized\",\n",
    "                                               early_stop=False)"
   ],
   "metadata": {
    "collapsed": false,
    "pycharm": {
     "name": "#%%\n"
    }
   }
  },
  {
   "cell_type": "markdown",
   "metadata": {
    "pycharm": {
     "name": "#%% md\n"
    }
   },
   "source": [
    " ***Train and evaluate***"
   ]
  },
  {
   "cell_type": "code",
   "execution_count": 49,
   "metadata": {
    "pycharm": {
     "name": "#%%\n"
    },
    "scrolled": true
   },
   "outputs": [
    {
     "name": "stdout",
     "output_type": "stream",
     "text": [
      "Epoch 0/49\n",
      "----------\n",
      "train Loss: 0.5694 Acc: 0.7955\n",
      "test Loss: 0.3860 Acc: 0.8604\n",
      "\n",
      "Epoch 1/49\n",
      "----------\n",
      "train Loss: 0.2518 Acc: 0.9132\n",
      "test Loss: 0.5547 Acc: 0.7628\n",
      "\n",
      "Epoch 2/49\n",
      "----------\n",
      "train Loss: 0.1743 Acc: 0.9438\n",
      "test Loss: 0.9545 Acc: 0.4985\n",
      "\n",
      "Epoch 3/49\n",
      "----------\n",
      "train Loss: 0.1235 Acc: 0.9609\n",
      "test Loss: 0.7877 Acc: 0.6051\n",
      "\n",
      "Epoch 4/49\n",
      "----------\n",
      "train Loss: 0.0928 Acc: 0.9720\n",
      "test Loss: 0.2703 Acc: 0.9009\n",
      "\n",
      "Epoch 5/49\n",
      "----------\n",
      "train Loss: 0.0690 Acc: 0.9806\n",
      "test Loss: 0.2461 Acc: 0.9099\n",
      "\n",
      "Epoch 6/49\n",
      "----------\n",
      "train Loss: 0.0554 Acc: 0.9838\n",
      "test Loss: 0.5931 Acc: 0.7447\n",
      "\n",
      "Epoch 7/49\n",
      "----------\n",
      "train Loss: 0.0398 Acc: 0.9882\n",
      "test Loss: 1.1459 Acc: 0.5255\n",
      "\n",
      "Epoch 8/49\n",
      "----------\n",
      "train Loss: 0.0363 Acc: 0.9887\n",
      "test Loss: 0.2498 Acc: 0.9039\n",
      "\n",
      "Epoch 9/49\n",
      "----------\n",
      "train Loss: 0.0281 Acc: 0.9915\n",
      "test Loss: 0.4079 Acc: 0.8468\n",
      "\n",
      "Epoch 10/49\n",
      "----------\n",
      "train Loss: 0.0245 Acc: 0.9930\n",
      "test Loss: 0.2100 Acc: 0.9384\n",
      "\n",
      "Epoch 11/49\n",
      "----------\n",
      "train Loss: 0.0220 Acc: 0.9944\n",
      "test Loss: 0.2138 Acc: 0.9369\n",
      "\n",
      "Epoch 12/49\n",
      "----------\n",
      "train Loss: 0.0204 Acc: 0.9955\n",
      "test Loss: 0.2117 Acc: 0.9384\n",
      "\n",
      "Epoch 13/49\n",
      "----------\n",
      "train Loss: 0.0194 Acc: 0.9953\n",
      "test Loss: 0.2146 Acc: 0.9354\n",
      "\n",
      "Epoch 14/49\n",
      "----------\n",
      "train Loss: 0.0191 Acc: 0.9955\n",
      "test Loss: 0.2168 Acc: 0.9354\n",
      "\n",
      "Epoch 15/49\n",
      "----------\n",
      "train Loss: 0.0184 Acc: 0.9957\n",
      "test Loss: 0.2190 Acc: 0.9369\n",
      "\n",
      "Epoch 16/49\n",
      "----------\n",
      "train Loss: 0.0178 Acc: 0.9957\n",
      "test Loss: 0.2165 Acc: 0.9384\n",
      "\n",
      "Epoch 17/49\n",
      "----------\n",
      "train Loss: 0.0177 Acc: 0.9953\n",
      "test Loss: 0.2157 Acc: 0.9384\n",
      "\n",
      "Epoch 18/49\n",
      "----------\n",
      "train Loss: 0.0169 Acc: 0.9959\n",
      "test Loss: 0.2140 Acc: 0.9384\n",
      "\n",
      "Epoch 19/49\n",
      "----------\n",
      "train Loss: 0.0166 Acc: 0.9961\n",
      "test Loss: 0.2123 Acc: 0.9369\n",
      "\n",
      "Epoch 20/49\n",
      "----------\n",
      "train Loss: 0.0188 Acc: 0.9953\n",
      "test Loss: 0.2231 Acc: 0.9369\n",
      "\n",
      "Epoch 21/49\n",
      "----------\n",
      "train Loss: 0.0165 Acc: 0.9959\n",
      "test Loss: 0.2253 Acc: 0.9384\n",
      "\n",
      "Epoch 22/49\n",
      "----------\n",
      "train Loss: 0.0165 Acc: 0.9962\n",
      "test Loss: 0.2290 Acc: 0.9369\n",
      "\n",
      "Epoch 23/49\n",
      "----------\n",
      "train Loss: 0.0159 Acc: 0.9959\n",
      "test Loss: 0.2265 Acc: 0.9339\n",
      "\n",
      "Epoch 24/49\n",
      "----------\n",
      "train Loss: 0.0157 Acc: 0.9962\n",
      "test Loss: 0.2294 Acc: 0.9354\n",
      "\n",
      "Epoch 25/49\n",
      "----------\n",
      "train Loss: 0.0159 Acc: 0.9961\n",
      "test Loss: 0.2298 Acc: 0.9339\n",
      "\n",
      "Epoch 26/49\n",
      "----------\n",
      "train Loss: 0.0160 Acc: 0.9961\n",
      "test Loss: 0.2299 Acc: 0.9354\n",
      "\n",
      "Epoch 27/49\n",
      "----------\n",
      "train Loss: 0.0157 Acc: 0.9962\n",
      "test Loss: 0.2284 Acc: 0.9354\n",
      "\n",
      "Epoch 28/49\n",
      "----------\n",
      "train Loss: 0.0159 Acc: 0.9961\n",
      "test Loss: 0.2292 Acc: 0.9354\n",
      "\n",
      "Epoch 29/49\n",
      "----------\n",
      "train Loss: 0.0157 Acc: 0.9961\n",
      "test Loss: 0.2312 Acc: 0.9339\n",
      "\n",
      "Epoch 30/49\n",
      "----------\n",
      "train Loss: 0.0153 Acc: 0.9962\n",
      "test Loss: 0.2305 Acc: 0.9339\n",
      "\n",
      "Epoch 31/49\n",
      "----------\n",
      "train Loss: 0.0156 Acc: 0.9961\n",
      "test Loss: 0.2338 Acc: 0.9354\n",
      "\n",
      "Epoch 32/49\n",
      "----------\n",
      "train Loss: 0.0154 Acc: 0.9962\n",
      "test Loss: 0.2302 Acc: 0.9369\n",
      "\n",
      "Epoch 33/49\n",
      "----------\n",
      "train Loss: 0.0156 Acc: 0.9961\n",
      "test Loss: 0.2340 Acc: 0.9354\n",
      "\n",
      "Epoch 34/49\n",
      "----------\n",
      "train Loss: 0.0158 Acc: 0.9961\n",
      "test Loss: 0.2334 Acc: 0.9354\n",
      "\n",
      "Epoch 35/49\n",
      "----------\n",
      "train Loss: 0.0152 Acc: 0.9962\n",
      "test Loss: 0.2341 Acc: 0.9354\n",
      "\n",
      "Epoch 36/49\n",
      "----------\n",
      "train Loss: 0.0151 Acc: 0.9961\n",
      "test Loss: 0.2297 Acc: 0.9339\n",
      "\n",
      "Epoch 37/49\n",
      "----------\n",
      "train Loss: 0.0153 Acc: 0.9962\n",
      "test Loss: 0.2305 Acc: 0.9339\n",
      "\n",
      "Epoch 38/49\n",
      "----------\n",
      "train Loss: 0.0156 Acc: 0.9961\n",
      "test Loss: 0.2314 Acc: 0.9354\n",
      "\n",
      "Epoch 39/49\n",
      "----------\n",
      "train Loss: 0.0155 Acc: 0.9961\n",
      "test Loss: 0.2332 Acc: 0.9354\n",
      "\n",
      "Epoch 40/49\n",
      "----------\n",
      "train Loss: 0.0154 Acc: 0.9961\n",
      "test Loss: 0.2321 Acc: 0.9339\n",
      "\n",
      "Epoch 41/49\n",
      "----------\n",
      "train Loss: 0.0153 Acc: 0.9962\n",
      "test Loss: 0.2295 Acc: 0.9339\n",
      "\n",
      "Epoch 42/49\n",
      "----------\n",
      "train Loss: 0.0153 Acc: 0.9962\n",
      "test Loss: 0.2305 Acc: 0.9324\n",
      "\n",
      "Epoch 43/49\n",
      "----------\n",
      "train Loss: 0.0156 Acc: 0.9961\n",
      "test Loss: 0.2321 Acc: 0.9324\n",
      "\n",
      "Epoch 44/49\n",
      "----------\n",
      "train Loss: 0.0155 Acc: 0.9961\n",
      "test Loss: 0.2322 Acc: 0.9339\n",
      "\n",
      "Epoch 45/49\n",
      "----------\n",
      "train Loss: 0.0154 Acc: 0.9961\n",
      "test Loss: 0.2304 Acc: 0.9339\n",
      "\n",
      "Epoch 46/49\n",
      "----------\n",
      "train Loss: 0.0155 Acc: 0.9962\n",
      "test Loss: 0.2324 Acc: 0.9324\n",
      "\n",
      "Epoch 47/49\n",
      "----------\n",
      "train Loss: 0.0153 Acc: 0.9961\n",
      "test Loss: 0.2331 Acc: 0.9339\n",
      "\n",
      "Epoch 48/49\n",
      "----------\n",
      "train Loss: 0.0152 Acc: 0.9962\n",
      "test Loss: 0.2309 Acc: 0.9354\n",
      "\n",
      "Epoch 49/49\n",
      "----------\n",
      "train Loss: 0.0152 Acc: 0.9962\n",
      "test Loss: 0.2313 Acc: 0.9339\n",
      "\n",
      "Training complete in 23m 45s\n",
      "Best test acc: 0.938438\n"
     ]
    }
   ],
   "source": [
    "model_ft = transferLearningTrainer.train_model(model=model_ft,\n",
    "                                               criterion=criterion,\n",
    "                                               optimizer=optimizer_ft,\n",
    "                                               scheduler=exp_lr_scheduler,\n",
    "                                               num_epochs=50,\n",
    "                                               model_name=model_name,\n",
    "                                               early_stop=False)"
   ]
  },
  {
   "cell_type": "code",
   "execution_count": 9,
   "metadata": {
    "pycharm": {
     "name": "#%%\n"
    },
    "scrolled": true
   },
   "outputs": [
    {
     "name": "stdout",
     "output_type": "stream",
     "text": [
      "/cvhci/temp/p22g5/data/harder_samples/Anlernbilder (230).jpg\n"
     ]
    },
    {
     "data": {
      "image/png": "[encoded data removed]",
      "text/plain": [
       "<Figure size 432x288 with 2 Axes>"
      ]
     },
     "metadata": {
      "needs_background": "light"
     },
     "output_type": "display_data"
    }
   ],
   "source": [
    "model_name += \"_weights.pth\"\n",
    "model_ft = models.resnet18()\n",
    "num_ftrs = model_ft.fc.in_features\n",
    "# Here the size of each output sample is set to 6, since we have 6 classes\n",
    "model_ft.fc = torch.nn.Linear(num_ftrs, len(transferLearningTrainer.class_names))\n",
    "model_ft.load_state_dict(torch.load(transferLearningTrainer.MODELS_DIR + model_name))\n",
    "# print(model_ft)\n",
    "\n",
    "cam = CAM(transferLearningTrainer)\n",
    "cam.print_cam(model_ft)"
   ]
  },
  {
   "cell_type": "code",
   "execution_count": null,
   "metadata": {
    "pycharm": {
     "name": "#%%\n"
    },
    "scrolled": true
   },
   "outputs": [],
   "source": [
    "!reload_ext tensorboard\n",
    "!tensorboard --logdir /cvhci/temp/p22g5/runs/"
   ]
  },
  {
   "cell_type": "markdown",
   "metadata": {
    "pycharm": {
     "name": "#%% md\n"
    }
   },
   "source": []
  },
  {
   "cell_type": "markdown",
   "metadata": {
    "pycharm": {
     "name": "#%% md\n"
    }
   },
   "source": [
    "***Filenames where validation failed***"
   ]
  },
  {
   "cell_type": "code",
   "execution_count": 11,
   "metadata": {
    "pycharm": {
     "name": "#%%\n"
    },
    "scrolled": true
   },
   "outputs": [
    {
     "name": "stdout",
     "output_type": "stream",
     "text": [
      "cluttered/Anlerndaten (830).jpg\n",
      "must be 2, but predicted 1\n",
      "cluttered/Anlerndaten (460).jpg\n",
      "must be 3, but predicted 2\n",
      "harder_samples/Anlernbilder (154).jpg\n",
      "must be 5, but predicted 4\n",
      "harder_samples/Anlernbilder (338).jpg\n",
      "must be 3, but predicted 2\n",
      "cluttered/Anlerndaten (875).jpg\n",
      "must be 2, but predicted 1\n",
      "cluttered/Anlerndaten (161).jpg\n",
      "must be 2, but predicted 1\n",
      "harder_samples/Anlernbilder (171).jpg\n",
      "must be 3, but predicted 2\n",
      "presorted/trial (127).jpg\n",
      "must be 2, but predicted 1\n",
      "cluttered/Anlerndaten (764).jpg\n",
      "must be 1, but predicted 0\n",
      "cluttered/Anlerndaten (615).jpg\n",
      "must be 2, but predicted 1\n",
      "cluttered/Anlerndaten (465).jpg\n",
      "must be 3, but predicted 2\n",
      "harder_samples/Anlernbilder (193).jpg\n",
      "must be 3, but predicted 2\n",
      "harder_samples/Anlernbilder (149).jpg\n",
      "must be 3, but predicted 2\n",
      "presorted/trial (1326).jpg\n",
      "must be 2, but predicted 1\n",
      "harder_samples/Anlernbilder (362).jpg\n",
      "must be 4, but predicted 2\n",
      "harder_samples/Anlernbilder (88).jpg\n",
      "must be 3, but predicted 2\n",
      "harder_samples/Anlernbilder (109).jpg\n",
      "must be 3, but predicted 2\n",
      "cluttered/Anlerndaten (398).jpg\n",
      "must be 2, but predicted 1\n",
      "harder_samples/Anlernbilder (232).jpg\n",
      "must be 3, but predicted 2\n",
      "harder_samples/Anlernbilder (348).jpg\n",
      "must be 3, but predicted 2\n",
      "harder_samples/Anlernbilder (339).jpg\n",
      "must be 3, but predicted 2\n",
      "harder_samples/Anlernbilder (212).jpg\n",
      "must be 3, but predicted 2\n",
      "presorted/trial (1060).jpg\n",
      "must be 2, but predicted 1\n",
      "presorted/trial (680).jpg\n",
      "must be 2, but predicted 1\n",
      "cluttered/Anlerndaten (911).jpg\n",
      "must be 2, but predicted 1\n",
      "cluttered/Anlerndaten (603).jpg\n",
      "must be 3, but predicted 2\n",
      "harder_samples/Anlernbilder (352).jpg\n",
      "must be 4, but predicted 3\n",
      "cluttered/Anlerndaten (85).jpg\n",
      "must be 3, but predicted 2\n",
      "harder_samples/Anlernbilder (380).jpg\n",
      "must be 4, but predicted 3\n",
      "harder_samples/Anlernbilder (497).jpg\n",
      "must be 2, but predicted 3\n",
      "cluttered/Anlerndaten (459).jpg\n",
      "must be 2, but predicted 1\n",
      "cluttered/Anlerndaten (301).jpg\n",
      "must be 4, but predicted 3\n",
      "cluttered/Anlerndaten (988).jpg\n",
      "must be 3, but predicted 1\n",
      "cluttered/Anlerndaten (690).jpg\n",
      "must be 3, but predicted 2\n",
      "harder_samples/Anlernbilder (84).jpg\n",
      "must be 2, but predicted 3\n",
      "harder_samples/Anlernbilder (38).jpg\n",
      "must be 4, but predicted 3\n",
      "presorted/trial (1306).jpg\n",
      "must be 2, but predicted 1\n",
      "harder_samples/Anlernbilder (51).jpg\n",
      "must be 3, but predicted 2\n",
      "cluttered/Anlerndaten (787).jpg\n",
      "must be 2, but predicted 3\n",
      "cluttered/Anlerndaten (697).jpg\n",
      "must be 5, but predicted 4\n",
      "harder_samples/Anlernbilder (400).jpg\n",
      "must be 4, but predicted 3\n",
      "harder_samples/Anlernbilder (81).jpg\n",
      "must be 2, but predicted 1\n",
      "cluttered/Anlerndaten (290).jpg\n",
      "must be 3, but predicted 2\n",
      "cluttered/Anlerndaten (656).jpg\n",
      "must be 2, but predicted 1\n",
      "cluttered/Anlerndaten (73).jpg\n",
      "must be 2, but predicted 1\n",
      "presorted/trial (1154).jpg\n",
      "must be 2, but predicted 1\n",
      "harder_samples/Anlernbilder (68).jpg\n",
      "must be 3, but predicted 2\n",
      "cluttered/Anlerndaten (168).jpg\n",
      "must be 2, but predicted 1\n",
      "harder_samples/Anlernbilder (66).jpg\n",
      "must be 3, but predicted 2\n",
      "cluttered/Anlerndaten (104).jpg\n",
      "must be 2, but predicted 1\n",
      "cluttered/Anlerndaten (882).jpg\n",
      "must be 2, but predicted 1\n",
      "cluttered/Anlerndaten (979).jpg\n",
      "must be 2, but predicted 1\n",
      "cluttered/Anlerndaten (427).jpg\n",
      "must be 2, but predicted 1\n",
      "harder_samples/Anlernbilder (429).jpg\n",
      "must be 1, but predicted 2\n",
      "harder_samples/Anlernbilder (18).jpg\n",
      "must be 3, but predicted 2\n",
      "cluttered/Anlerndaten (868).jpg\n",
      "must be 1, but predicted 0\n",
      "harder_samples/Anlernbilder (577).jpg\n",
      "must be 2, but predicted 1\n"
     ]
    }
   ],
   "source": [
    "_ = transferLearningTrainer.print_misclassified(model_ft, plot=True)"
   ]
  },
  {
   "cell_type": "code",
   "execution_count": 55,
   "metadata": {
    "pycharm": {
     "name": "#%%\n"
    }
   },
   "outputs": [
    {
     "data": {
      "text/plain": "<Figure size 560x560 with 1 Axes>",
      "image/png": "[encoded data removed]"
     },
     "metadata": {
      "needs_background": "light"
     },
     "output_type": "display_data"
    }
   ],
   "source": [
    "transferLearningTrainer.print_confusion_matrix(model_ft)"
   ]
  },
  {
   "cell_type": "markdown",
   "metadata": {
    "pycharm": {
     "name": "#%% md\n"
    }
   },
   "source": []
  },
  {
   "cell_type": "markdown",
   "metadata": {
    "id": "m-dI1pP3Xolk",
    "pycharm": {
     "name": "#%% md\n"
    }
   },
   "source": [
    "ConvNet as fixed feature extractor\n",
    "----------------------------------"
   ]
  },
  {
   "cell_type": "code",
   "execution_count": null,
   "metadata": {
    "id": "3sGmvfv8Xolk",
    "pycharm": {
     "name": "#%%\n"
    }
   },
   "outputs": [],
   "source": [
    "model_name = \"ResNet18_test\"\n",
    "model_conv = torchvision.models.resnet18(pretrained=True)\n",
    "for param in model_conv.parameters():\n",
    "    param.requires_grad = False\n",
    "# Parameters of newly constructed modules have requires_grad=True by default\n",
    "num_ftrs = model_conv.fc.in_features\n",
    "model_conv.fc = nn.Linear(num_ftrs, len(transferLearningTrainer.class_names))\n",
    "criterion = nn.CrossEntropyLoss()\n",
    "# Observe that only parameters of final layer are being optimized as\n",
    "# opposed to before.\n",
    "optimizer_conv = optim.SGD(model_conv.fc.parameters(), lr=0.001, momentum=0.9)\n",
    "# Decay LR by a factor of 0.1 every 7 epochs\n",
    "exp_lr_scheduler = lr_scheduler.StepLR(optimizer_conv, step_size=7, gamma=0.1)"
   ]
  },
  {
   "cell_type": "markdown",
   "metadata": {
    "id": "_eJtv9s8Xolk",
    "pycharm": {
     "name": "#%% md\n"
    }
   },
   "source": [
    "Train and evaluate\n",
    "^^^^^^^^^^^^^^^^^^\n",
    "\n",
    "On CPU this will take about half the time compared to previous scenario.\n",
    "This is expected as gradients don't need to be computed for most of the\n",
    "network. However, forward does need to be computed.\n",
    "\n",
    "\n"
   ]
  },
  {
   "cell_type": "code",
   "execution_count": null,
   "metadata": {
    "id": "GDPR_qHZXoll",
    "pycharm": {
     "name": "#%%\n"
    }
   },
   "outputs": [],
   "source": [
    "model_conv = transferLearningTrainer.train_model(model_conv,\n",
    "                                                 criterion,\n",
    "                                                 optimizer_conv,\n",
    "                                                 exp_lr_scheduler,\n",
    "                                                 num_epochs=50,\n",
    "                                                 model_name=model_name)"
   ]
  },
  {
   "cell_type": "code",
   "execution_count": null,
   "metadata": {
    "id": "wcU1sICJXolm",
    "pycharm": {
     "name": "#%%\n"
    }
   },
   "outputs": [],
   "source": [
    "transferLearningTrainer.visualize_model(model_conv)"
   ]
  }
 ],
 "metadata": {
  "accelerator": "GPU",
  "colab": {
   "collapsed_sections": [],
   "name": "Copy of transfer_learning_tutorial.ipynb",
   "provenance": []
  },
  "kernelspec": {
   "display_name": "Python 3",
   "language": "python",
   "name": "python3"
  },
  "language_info": {
   "codemirror_mode": {
    "name": "ipython",
    "version": 3
   },
   "file_extension": ".py",
   "mimetype": "text/x-python",
   "name": "python",
   "nbconvert_exporter": "python",
   "pygments_lexer": "ipython3",
   "version": "3.8.3"
  }
 },
 "nbformat": 4,
 "nbformat_minor": 1
}